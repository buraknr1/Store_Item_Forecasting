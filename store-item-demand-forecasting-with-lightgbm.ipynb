{
 "cells": [
  {
   "cell_type": "markdown",
   "id": "c2a193a5",
   "metadata": {
    "papermill": {
     "duration": 0.024651,
     "end_time": "2024-07-02T23:34:04.300896",
     "exception": false,
     "start_time": "2024-07-02T23:34:04.276245",
     "status": "completed"
    },
    "tags": []
   },
   "source": [
    "# Importing libraries and datasets"
   ]
  },
  {
   "cell_type": "code",
   "execution_count": 1,
   "id": "a1bf96e6",
   "metadata": {
    "execution": {
     "iopub.execute_input": "2024-07-02T23:34:04.350211Z",
     "iopub.status.busy": "2024-07-02T23:34:04.349103Z",
     "iopub.status.idle": "2024-07-02T23:34:08.140714Z",
     "shell.execute_reply": "2024-07-02T23:34:08.139566Z"
    },
    "papermill": {
     "duration": 3.819602,
     "end_time": "2024-07-02T23:34:08.143946",
     "exception": false,
     "start_time": "2024-07-02T23:34:04.324344",
     "status": "completed"
    },
    "tags": []
   },
   "outputs": [],
   "source": [
    "import time\n",
    "import numpy as np\n",
    "import pandas as pd\n",
    "import matplotlib.pyplot as plt\n",
    "import seaborn as sns\n",
    "import lightgbm as lgb\n",
    "import warnings\n",
    "\n",
    "pd.set_option(\"display.max_columns\", None)\n",
    "pd.set_option(\"display.width\", 500)\n",
    "warnings.filterwarnings(\"ignore\")"
   ]
  },
  {
   "cell_type": "code",
   "execution_count": 2,
   "id": "aacfca26",
   "metadata": {
    "execution": {
     "iopub.execute_input": "2024-07-02T23:34:08.192887Z",
     "iopub.status.busy": "2024-07-02T23:34:08.192217Z",
     "iopub.status.idle": "2024-07-02T23:34:09.178055Z",
     "shell.execute_reply": "2024-07-02T23:34:09.176847Z"
    },
    "papermill": {
     "duration": 1.012943,
     "end_time": "2024-07-02T23:34:09.181019",
     "exception": false,
     "start_time": "2024-07-02T23:34:08.168076",
     "status": "completed"
    },
    "tags": []
   },
   "outputs": [],
   "source": [
    "train = pd.read_csv(\"/kaggle/input/demand-forecasting-kernels-only/train.csv\", parse_dates=[\"date\"])\n",
    "test = pd.read_csv(\"/kaggle/input/demand-forecasting-kernels-only/test.csv\", parse_dates=[\"date\"])"
   ]
  },
  {
   "cell_type": "code",
   "execution_count": 3,
   "id": "8cb69852",
   "metadata": {
    "execution": {
     "iopub.execute_input": "2024-07-02T23:34:09.228934Z",
     "iopub.status.busy": "2024-07-02T23:34:09.228374Z",
     "iopub.status.idle": "2024-07-02T23:34:09.264714Z",
     "shell.execute_reply": "2024-07-02T23:34:09.263442Z"
    },
    "papermill": {
     "duration": 0.063445,
     "end_time": "2024-07-02T23:34:09.267707",
     "exception": false,
     "start_time": "2024-07-02T23:34:09.204262",
     "status": "completed"
    },
    "tags": []
   },
   "outputs": [],
   "source": [
    "df = pd.concat([train, test], sort=False)"
   ]
  },
  {
   "cell_type": "markdown",
   "id": "85ef74fb",
   "metadata": {
    "papermill": {
     "duration": 0.02691,
     "end_time": "2024-07-02T23:34:09.318013",
     "exception": false,
     "start_time": "2024-07-02T23:34:09.291103",
     "status": "completed"
    },
    "tags": []
   },
   "source": [
    "# Exploratory Data Analysis"
   ]
  },
  {
   "cell_type": "code",
   "execution_count": 4,
   "id": "68f3d8a7",
   "metadata": {
    "execution": {
     "iopub.execute_input": "2024-07-02T23:34:09.370041Z",
     "iopub.status.busy": "2024-07-02T23:34:09.369508Z",
     "iopub.status.idle": "2024-07-02T23:34:09.379347Z",
     "shell.execute_reply": "2024-07-02T23:34:09.378108Z"
    },
    "papermill": {
     "duration": 0.037602,
     "end_time": "2024-07-02T23:34:09.382242",
     "exception": false,
     "start_time": "2024-07-02T23:34:09.344640",
     "status": "completed"
    },
    "tags": []
   },
   "outputs": [
    {
     "data": {
      "text/plain": [
       "(958000, 5)"
      ]
     },
     "execution_count": 4,
     "metadata": {},
     "output_type": "execute_result"
    }
   ],
   "source": [
    "df.shape"
   ]
  },
  {
   "cell_type": "code",
   "execution_count": 5,
   "id": "5db3b5d5",
   "metadata": {
    "execution": {
     "iopub.execute_input": "2024-07-02T23:34:09.436112Z",
     "iopub.status.busy": "2024-07-02T23:34:09.435475Z",
     "iopub.status.idle": "2024-07-02T23:34:09.466539Z",
     "shell.execute_reply": "2024-07-02T23:34:09.465229Z"
    },
    "papermill": {
     "duration": 0.060026,
     "end_time": "2024-07-02T23:34:09.469581",
     "exception": false,
     "start_time": "2024-07-02T23:34:09.409555",
     "status": "completed"
    },
    "tags": []
   },
   "outputs": [
    {
     "name": "stdout",
     "output_type": "stream",
     "text": [
      "<class 'pandas.core.frame.DataFrame'>\n",
      "Index: 958000 entries, 0 to 44999\n",
      "Data columns (total 5 columns):\n",
      " #   Column  Non-Null Count   Dtype         \n",
      "---  ------  --------------   -----         \n",
      " 0   date    958000 non-null  datetime64[ns]\n",
      " 1   store   958000 non-null  int64         \n",
      " 2   item    958000 non-null  int64         \n",
      " 3   sales   913000 non-null  float64       \n",
      " 4   id      45000 non-null   float64       \n",
      "dtypes: datetime64[ns](1), float64(2), int64(2)\n",
      "memory usage: 43.9 MB\n"
     ]
    }
   ],
   "source": [
    "df.info()"
   ]
  },
  {
   "cell_type": "code",
   "execution_count": 6,
   "id": "83627005",
   "metadata": {
    "execution": {
     "iopub.execute_input": "2024-07-02T23:34:09.518004Z",
     "iopub.status.busy": "2024-07-02T23:34:09.517415Z",
     "iopub.status.idle": "2024-07-02T23:34:09.536632Z",
     "shell.execute_reply": "2024-07-02T23:34:09.535343Z"
    },
    "papermill": {
     "duration": 0.046664,
     "end_time": "2024-07-02T23:34:09.539476",
     "exception": false,
     "start_time": "2024-07-02T23:34:09.492812",
     "status": "completed"
    },
    "tags": []
   },
   "outputs": [
    {
     "data": {
      "text/html": [
       "<div>\n",
       "<style scoped>\n",
       "    .dataframe tbody tr th:only-of-type {\n",
       "        vertical-align: middle;\n",
       "    }\n",
       "\n",
       "    .dataframe tbody tr th {\n",
       "        vertical-align: top;\n",
       "    }\n",
       "\n",
       "    .dataframe thead th {\n",
       "        text-align: right;\n",
       "    }\n",
       "</style>\n",
       "<table border=\"1\" class=\"dataframe\">\n",
       "  <thead>\n",
       "    <tr style=\"text-align: right;\">\n",
       "      <th></th>\n",
       "      <th>date</th>\n",
       "      <th>store</th>\n",
       "      <th>item</th>\n",
       "      <th>sales</th>\n",
       "      <th>id</th>\n",
       "    </tr>\n",
       "  </thead>\n",
       "  <tbody>\n",
       "    <tr>\n",
       "      <th>0</th>\n",
       "      <td>2013-01-01</td>\n",
       "      <td>1</td>\n",
       "      <td>1</td>\n",
       "      <td>13.0</td>\n",
       "      <td>NaN</td>\n",
       "    </tr>\n",
       "    <tr>\n",
       "      <th>1</th>\n",
       "      <td>2013-01-02</td>\n",
       "      <td>1</td>\n",
       "      <td>1</td>\n",
       "      <td>11.0</td>\n",
       "      <td>NaN</td>\n",
       "    </tr>\n",
       "    <tr>\n",
       "      <th>2</th>\n",
       "      <td>2013-01-03</td>\n",
       "      <td>1</td>\n",
       "      <td>1</td>\n",
       "      <td>14.0</td>\n",
       "      <td>NaN</td>\n",
       "    </tr>\n",
       "  </tbody>\n",
       "</table>\n",
       "</div>"
      ],
      "text/plain": [
       "        date  store  item  sales  id\n",
       "0 2013-01-01      1     1   13.0 NaN\n",
       "1 2013-01-02      1     1   11.0 NaN\n",
       "2 2013-01-03      1     1   14.0 NaN"
      ]
     },
     "metadata": {},
     "output_type": "display_data"
    }
   ],
   "source": [
    "display(df.head(3))"
   ]
  },
  {
   "cell_type": "code",
   "execution_count": 7,
   "id": "a36d7f81",
   "metadata": {
    "execution": {
     "iopub.execute_input": "2024-07-02T23:34:09.588930Z",
     "iopub.status.busy": "2024-07-02T23:34:09.588310Z",
     "iopub.status.idle": "2024-07-02T23:34:09.604036Z",
     "shell.execute_reply": "2024-07-02T23:34:09.602731Z"
    },
    "papermill": {
     "duration": 0.043233,
     "end_time": "2024-07-02T23:34:09.606758",
     "exception": false,
     "start_time": "2024-07-02T23:34:09.563525",
     "status": "completed"
    },
    "tags": []
   },
   "outputs": [
    {
     "data": {
      "text/html": [
       "<div>\n",
       "<style scoped>\n",
       "    .dataframe tbody tr th:only-of-type {\n",
       "        vertical-align: middle;\n",
       "    }\n",
       "\n",
       "    .dataframe tbody tr th {\n",
       "        vertical-align: top;\n",
       "    }\n",
       "\n",
       "    .dataframe thead th {\n",
       "        text-align: right;\n",
       "    }\n",
       "</style>\n",
       "<table border=\"1\" class=\"dataframe\">\n",
       "  <thead>\n",
       "    <tr style=\"text-align: right;\">\n",
       "      <th></th>\n",
       "      <th>date</th>\n",
       "      <th>store</th>\n",
       "      <th>item</th>\n",
       "      <th>sales</th>\n",
       "      <th>id</th>\n",
       "    </tr>\n",
       "  </thead>\n",
       "  <tbody>\n",
       "    <tr>\n",
       "      <th>44997</th>\n",
       "      <td>2018-03-29</td>\n",
       "      <td>10</td>\n",
       "      <td>50</td>\n",
       "      <td>NaN</td>\n",
       "      <td>44997.0</td>\n",
       "    </tr>\n",
       "    <tr>\n",
       "      <th>44998</th>\n",
       "      <td>2018-03-30</td>\n",
       "      <td>10</td>\n",
       "      <td>50</td>\n",
       "      <td>NaN</td>\n",
       "      <td>44998.0</td>\n",
       "    </tr>\n",
       "    <tr>\n",
       "      <th>44999</th>\n",
       "      <td>2018-03-31</td>\n",
       "      <td>10</td>\n",
       "      <td>50</td>\n",
       "      <td>NaN</td>\n",
       "      <td>44999.0</td>\n",
       "    </tr>\n",
       "  </tbody>\n",
       "</table>\n",
       "</div>"
      ],
      "text/plain": [
       "            date  store  item  sales       id\n",
       "44997 2018-03-29     10    50    NaN  44997.0\n",
       "44998 2018-03-30     10    50    NaN  44998.0\n",
       "44999 2018-03-31     10    50    NaN  44999.0"
      ]
     },
     "metadata": {},
     "output_type": "display_data"
    }
   ],
   "source": [
    "display(df.tail(3))"
   ]
  },
  {
   "cell_type": "code",
   "execution_count": 8,
   "id": "1bce0cf2",
   "metadata": {
    "execution": {
     "iopub.execute_input": "2024-07-02T23:34:09.655758Z",
     "iopub.status.busy": "2024-07-02T23:34:09.655258Z",
     "iopub.status.idle": "2024-07-02T23:34:09.860709Z",
     "shell.execute_reply": "2024-07-02T23:34:09.859559Z"
    },
    "papermill": {
     "duration": 0.233009,
     "end_time": "2024-07-02T23:34:09.863319",
     "exception": false,
     "start_time": "2024-07-02T23:34:09.630310",
     "status": "completed"
    },
    "tags": []
   },
   "outputs": [
    {
     "data": {
      "text/html": [
       "<div>\n",
       "<style scoped>\n",
       "    .dataframe tbody tr th:only-of-type {\n",
       "        vertical-align: middle;\n",
       "    }\n",
       "\n",
       "    .dataframe tbody tr th {\n",
       "        vertical-align: top;\n",
       "    }\n",
       "\n",
       "    .dataframe thead th {\n",
       "        text-align: right;\n",
       "    }\n",
       "</style>\n",
       "<table border=\"1\" class=\"dataframe\">\n",
       "  <thead>\n",
       "    <tr style=\"text-align: right;\">\n",
       "      <th></th>\n",
       "      <th>count</th>\n",
       "      <th>mean</th>\n",
       "      <th>min</th>\n",
       "      <th>25%</th>\n",
       "      <th>50%</th>\n",
       "      <th>75%</th>\n",
       "      <th>max</th>\n",
       "      <th>std</th>\n",
       "    </tr>\n",
       "  </thead>\n",
       "  <tbody>\n",
       "    <tr>\n",
       "      <th>date</th>\n",
       "      <td>958000</td>\n",
       "      <td>2015-08-16 11:59:59.999999744</td>\n",
       "      <td>2013-01-01 00:00:00</td>\n",
       "      <td>2014-04-24 18:00:00</td>\n",
       "      <td>2015-08-16 12:00:00</td>\n",
       "      <td>2016-12-07 06:00:00</td>\n",
       "      <td>2018-03-31 00:00:00</td>\n",
       "      <td>NaN</td>\n",
       "    </tr>\n",
       "    <tr>\n",
       "      <th>store</th>\n",
       "      <td>958000.0</td>\n",
       "      <td>5.5</td>\n",
       "      <td>1.0</td>\n",
       "      <td>3.0</td>\n",
       "      <td>5.5</td>\n",
       "      <td>8.0</td>\n",
       "      <td>10.0</td>\n",
       "      <td>2.872283</td>\n",
       "    </tr>\n",
       "    <tr>\n",
       "      <th>item</th>\n",
       "      <td>958000.0</td>\n",
       "      <td>25.5</td>\n",
       "      <td>1.0</td>\n",
       "      <td>13.0</td>\n",
       "      <td>25.5</td>\n",
       "      <td>38.0</td>\n",
       "      <td>50.0</td>\n",
       "      <td>14.430877</td>\n",
       "    </tr>\n",
       "    <tr>\n",
       "      <th>sales</th>\n",
       "      <td>913000.0</td>\n",
       "      <td>52.250287</td>\n",
       "      <td>0.0</td>\n",
       "      <td>30.0</td>\n",
       "      <td>47.0</td>\n",
       "      <td>70.0</td>\n",
       "      <td>231.0</td>\n",
       "      <td>28.801144</td>\n",
       "    </tr>\n",
       "    <tr>\n",
       "      <th>id</th>\n",
       "      <td>45000.0</td>\n",
       "      <td>22499.5</td>\n",
       "      <td>0.0</td>\n",
       "      <td>11249.75</td>\n",
       "      <td>22499.5</td>\n",
       "      <td>33749.25</td>\n",
       "      <td>44999.0</td>\n",
       "      <td>12990.525394</td>\n",
       "    </tr>\n",
       "  </tbody>\n",
       "</table>\n",
       "</div>"
      ],
      "text/plain": [
       "          count                           mean                  min                  25%                  50%                  75%                  max           std\n",
       "date     958000  2015-08-16 11:59:59.999999744  2013-01-01 00:00:00  2014-04-24 18:00:00  2015-08-16 12:00:00  2016-12-07 06:00:00  2018-03-31 00:00:00           NaN\n",
       "store  958000.0                            5.5                  1.0                  3.0                  5.5                  8.0                 10.0      2.872283\n",
       "item   958000.0                           25.5                  1.0                 13.0                 25.5                 38.0                 50.0     14.430877\n",
       "sales  913000.0                      52.250287                  0.0                 30.0                 47.0                 70.0                231.0     28.801144\n",
       "id      45000.0                        22499.5                  0.0             11249.75              22499.5             33749.25              44999.0  12990.525394"
      ]
     },
     "metadata": {},
     "output_type": "display_data"
    }
   ],
   "source": [
    "display(df.describe().T)"
   ]
  },
  {
   "cell_type": "code",
   "execution_count": 9,
   "id": "0af45061",
   "metadata": {
    "execution": {
     "iopub.execute_input": "2024-07-02T23:34:09.914530Z",
     "iopub.status.busy": "2024-07-02T23:34:09.913372Z",
     "iopub.status.idle": "2024-07-02T23:34:09.929455Z",
     "shell.execute_reply": "2024-07-02T23:34:09.928288Z"
    },
    "papermill": {
     "duration": 0.044341,
     "end_time": "2024-07-02T23:34:09.932307",
     "exception": false,
     "start_time": "2024-07-02T23:34:09.887966",
     "status": "completed"
    },
    "tags": []
   },
   "outputs": [
    {
     "data": {
      "text/plain": [
       "date          0\n",
       "store         0\n",
       "item          0\n",
       "sales     45000\n",
       "id       913000\n",
       "dtype: int64"
      ]
     },
     "execution_count": 9,
     "metadata": {},
     "output_type": "execute_result"
    }
   ],
   "source": [
    "df.isnull().sum()"
   ]
  },
  {
   "cell_type": "code",
   "execution_count": 10,
   "id": "4dfb8045",
   "metadata": {
    "execution": {
     "iopub.execute_input": "2024-07-02T23:34:09.985336Z",
     "iopub.status.busy": "2024-07-02T23:34:09.984373Z",
     "iopub.status.idle": "2024-07-02T23:34:10.388960Z",
     "shell.execute_reply": "2024-07-02T23:34:10.387732Z"
    },
    "papermill": {
     "duration": 0.434133,
     "end_time": "2024-07-02T23:34:10.391488",
     "exception": false,
     "start_time": "2024-07-02T23:34:09.957355",
     "status": "completed"
    },
    "tags": []
   },
   "outputs": [
    {
     "data": {
      "image/png": "[encoded data removed]",
      "text/plain": [
       "<Figure size 800x400 with 1 Axes>"
      ]
     },
     "metadata": {},
     "output_type": "display_data"
    }
   ],
   "source": [
    "# Her mağazada benzersiz ürün sayısını hesaplama\n",
    "unique_items_per_store = df.groupby([\"store\"])[\"item\"].nunique().reset_index()\n",
    "unique_items_per_store.columns = ['store', 'unique_items']\n",
    "\n",
    "# Bar Plot ile görselleştirme\n",
    "plt.figure(figsize=(8, 4))\n",
    "sns.barplot(x=\"store\", y=\"unique_items\", data=unique_items_per_store, palette=\"viridis\")\n",
    "plt.title('Her Mağazadaki Benzersiz Ürün Sayısı')\n",
    "plt.xlabel('Mağaza')\n",
    "plt.ylabel('Benzersiz Ürün Sayısı')\n",
    "plt.show()"
   ]
  },
  {
   "cell_type": "code",
   "execution_count": 11,
   "id": "68ad408b",
   "metadata": {
    "execution": {
     "iopub.execute_input": "2024-07-02T23:34:10.443256Z",
     "iopub.status.busy": "2024-07-02T23:34:10.442488Z",
     "iopub.status.idle": "2024-07-02T23:34:11.275536Z",
     "shell.execute_reply": "2024-07-02T23:34:11.274333Z"
    },
    "papermill": {
     "duration": 0.862247,
     "end_time": "2024-07-02T23:34:11.278496",
     "exception": false,
     "start_time": "2024-07-02T23:34:10.416249",
     "status": "completed"
    },
    "tags": []
   },
   "outputs": [
    {
     "data": {
      "image/png": "[encoded data removed]",
      "text/plain": [
       "<Figure size 800x400 with 1 Axes>"
      ]
     },
     "metadata": {},
     "output_type": "display_data"
    }
   ],
   "source": [
    "# Her mağazada en çok satan 5 ürünü belirleme\n",
    "grouped_df = df.groupby([\"store\", \"item\"]).agg({\"sales\": \"sum\"}).reset_index()\n",
    "\n",
    "top5_items_per_store = grouped_df.groupby(\"store\").apply(lambda x: x.nlargest(5, 'sales')).reset_index(drop=True)\n",
    "\n",
    "# Bar Plot ile görselleştirme\n",
    "plt.figure(figsize=(8, 4))\n",
    "sns.barplot(x=\"store\", y=\"sales\", hue=\"item\", data=top5_items_per_store, palette=\"viridis\")\n",
    "plt.title('Her Mağazada En Çok Satan 5 Ürün')\n",
    "plt.xlabel('Mağaza')\n",
    "plt.ylabel('Toplam Satışlar')\n",
    "plt.legend(title='Ürün', bbox_to_anchor=(1.05, 1), loc='upper left')\n",
    "plt.show()"
   ]
  },
  {
   "cell_type": "code",
   "execution_count": 12,
   "id": "727dbf67",
   "metadata": {
    "execution": {
     "iopub.execute_input": "2024-07-02T23:34:11.331622Z",
     "iopub.status.busy": "2024-07-02T23:34:11.331188Z",
     "iopub.status.idle": "2024-07-02T23:34:11.914316Z",
     "shell.execute_reply": "2024-07-02T23:34:11.912890Z"
    },
    "papermill": {
     "duration": 0.61263,
     "end_time": "2024-07-02T23:34:11.916914",
     "exception": false,
     "start_time": "2024-07-02T23:34:11.304284",
     "status": "completed"
    },
    "tags": []
   },
   "outputs": [
    {
     "data": {
      "image/png": "[encoded data removed]",
      "text/plain": [
       "<Figure size 800x400 with 1 Axes>"
      ]
     },
     "metadata": {},
     "output_type": "display_data"
    }
   ],
   "source": [
    "# En az satan 5 ürünü bulma\n",
    "bottom5_items_per_store = grouped_df.groupby(\"store\").apply(lambda x: x.nsmallest(5, 'sales')).reset_index(drop=True)\n",
    "\n",
    "# Bar Plot ile görselleştirme\n",
    "plt.figure(figsize=(8, 4))\n",
    "sns.barplot(x=\"store\", y=\"sales\", hue=\"item\", data=bottom5_items_per_store, palette=\"viridis\")\n",
    "plt.title('Her Mağazada En Az Satan 5 Ürün')\n",
    "plt.xlabel('Mağaza')\n",
    "plt.ylabel('Toplam Satışlar')\n",
    "plt.legend(title='Ürün', bbox_to_anchor=(1.05, 1), loc='upper left')\n",
    "plt.show()"
   ]
  },
  {
   "cell_type": "code",
   "execution_count": 13,
   "id": "325ada85",
   "metadata": {
    "execution": {
     "iopub.execute_input": "2024-07-02T23:34:11.969382Z",
     "iopub.status.busy": "2024-07-02T23:34:11.969001Z",
     "iopub.status.idle": "2024-07-02T23:34:23.829352Z",
     "shell.execute_reply": "2024-07-02T23:34:23.828004Z"
    },
    "papermill": {
     "duration": 11.890424,
     "end_time": "2024-07-02T23:34:23.832742",
     "exception": false,
     "start_time": "2024-07-02T23:34:11.942318",
     "status": "completed"
    },
    "tags": []
   },
   "outputs": [
    {
     "data": {
      "image/png": "[encoded data removed]",
      "text/plain": [
       "<Figure size 667.75x600 with 4 Axes>"
      ]
     },
     "metadata": {},
     "output_type": "display_data"
    }
   ],
   "source": [
    "# Mağaza ürün kırılımında satış istatistikleri\n",
    "\n",
    "# Grup ve istatistiksel değerleri hesaplama\n",
    "agg_df = df.groupby([\"store\", \"item\"]).agg({\"sales\": [\"sum\", \"mean\", \"median\", \"std\"]}).reset_index()\n",
    "agg_df.columns = ['store', 'item', 'sales_sum', 'sales_mean', 'sales_median', 'sales_std']\n",
    "\n",
    "# FacetGrid ile Ayrı Ayrı İstatistikler\n",
    "melted_df = agg_df.melt(id_vars=[\"store\", \"item\"], value_vars=[\"sales_sum\", \"sales_mean\", \"sales_median\", \"sales_std\"],\n",
    "                        var_name=\"statistic\", value_name=\"value\")\n",
    "\n",
    "g = sns.FacetGrid(melted_df, col=\"statistic\", col_wrap=2, height=3, aspect=1, sharex=False, sharey=False)\n",
    "g.map(sns.barplot, \"store\", \"value\", \"item\", palette=\"viridis\")\n",
    "g.add_legend(title='Ürün')\n",
    "plt.show()"
   ]
  },
  {
   "cell_type": "markdown",
   "id": "0aff703d",
   "metadata": {
    "papermill": {
     "duration": 0.026135,
     "end_time": "2024-07-02T23:34:23.885875",
     "exception": false,
     "start_time": "2024-07-02T23:34:23.859740",
     "status": "completed"
    },
    "tags": []
   },
   "source": [
    "# Feature Engineering"
   ]
  },
  {
   "cell_type": "markdown",
   "id": "27006394",
   "metadata": {
    "papermill": {
     "duration": 0.027191,
     "end_time": "2024-07-02T23:34:23.941532",
     "exception": false,
     "start_time": "2024-07-02T23:34:23.914341",
     "status": "completed"
    },
    "tags": []
   },
   "source": [
    "## Date Features (Tarihsel Özellikler)"
   ]
  },
  {
   "cell_type": "code",
   "execution_count": 14,
   "id": "71bf9575",
   "metadata": {
    "execution": {
     "iopub.execute_input": "2024-07-02T23:34:23.997944Z",
     "iopub.status.busy": "2024-07-02T23:34:23.996685Z",
     "iopub.status.idle": "2024-07-02T23:34:24.008182Z",
     "shell.execute_reply": "2024-07-02T23:34:24.006947Z"
    },
    "papermill": {
     "duration": 0.042595,
     "end_time": "2024-07-02T23:34:24.010949",
     "exception": false,
     "start_time": "2024-07-02T23:34:23.968354",
     "status": "completed"
    },
    "tags": []
   },
   "outputs": [],
   "source": [
    "def create_date_features(df):\n",
    "    df[\"month\"] = df.date.dt.month # Ay\n",
    "    df[\"day_of_month\"] = df.date.dt.day # Ayın kaçıncı günü\n",
    "    df[\"day_of_year\"] = df.date.dt.dayofyear # Yılın kaçıncı günü\n",
    "    df[\"day_of_week\"] = df.date.dt.dayofweek # Haftanın kaçıncı günü\n",
    "    df[\"week_of_year\"] = df.date.dt.isocalendar().week # Yılın kaçıncı haftası\n",
    "    df[\"year\"] = df.date.dt.year # Yıl\n",
    "    df[\"is_weeknd\"] = df.date.dt.weekday // 4 # Hafta sonu mu?\n",
    "    df[\"is_month_start\"] = df.date.dt.is_month_start.astype(int) # Ay başı mı?\n",
    "    df[\"is_mont_end\"] = df.date.dt.is_month_end.astype(int) # Ay sonu mu?\n",
    "    return df"
   ]
  },
  {
   "cell_type": "code",
   "execution_count": 15,
   "id": "71fb0da8",
   "metadata": {
    "execution": {
     "iopub.execute_input": "2024-07-02T23:34:24.132130Z",
     "iopub.status.busy": "2024-07-02T23:34:24.131683Z",
     "iopub.status.idle": "2024-07-02T23:34:24.457383Z",
     "shell.execute_reply": "2024-07-02T23:34:24.456063Z"
    },
    "papermill": {
     "duration": 0.420828,
     "end_time": "2024-07-02T23:34:24.460292",
     "exception": false,
     "start_time": "2024-07-02T23:34:24.039464",
     "status": "completed"
    },
    "tags": []
   },
   "outputs": [],
   "source": [
    "df = create_date_features(df)"
   ]
  },
  {
   "cell_type": "code",
   "execution_count": 16,
   "id": "3e3f26cf",
   "metadata": {
    "execution": {
     "iopub.execute_input": "2024-07-02T23:34:24.515910Z",
     "iopub.status.busy": "2024-07-02T23:34:24.515443Z",
     "iopub.status.idle": "2024-07-02T23:34:24.534476Z",
     "shell.execute_reply": "2024-07-02T23:34:24.533326Z"
    },
    "papermill": {
     "duration": 0.050173,
     "end_time": "2024-07-02T23:34:24.537149",
     "exception": false,
     "start_time": "2024-07-02T23:34:24.486976",
     "status": "completed"
    },
    "tags": []
   },
   "outputs": [
    {
     "data": {
      "text/html": [
       "<div>\n",
       "<style scoped>\n",
       "    .dataframe tbody tr th:only-of-type {\n",
       "        vertical-align: middle;\n",
       "    }\n",
       "\n",
       "    .dataframe tbody tr th {\n",
       "        vertical-align: top;\n",
       "    }\n",
       "\n",
       "    .dataframe thead th {\n",
       "        text-align: right;\n",
       "    }\n",
       "</style>\n",
       "<table border=\"1\" class=\"dataframe\">\n",
       "  <thead>\n",
       "    <tr style=\"text-align: right;\">\n",
       "      <th></th>\n",
       "      <th>date</th>\n",
       "      <th>store</th>\n",
       "      <th>item</th>\n",
       "      <th>sales</th>\n",
       "      <th>id</th>\n",
       "      <th>month</th>\n",
       "      <th>day_of_month</th>\n",
       "      <th>day_of_year</th>\n",
       "      <th>day_of_week</th>\n",
       "      <th>week_of_year</th>\n",
       "      <th>year</th>\n",
       "      <th>is_weeknd</th>\n",
       "      <th>is_month_start</th>\n",
       "      <th>is_mont_end</th>\n",
       "    </tr>\n",
       "  </thead>\n",
       "  <tbody>\n",
       "    <tr>\n",
       "      <th>0</th>\n",
       "      <td>2013-01-01</td>\n",
       "      <td>1</td>\n",
       "      <td>1</td>\n",
       "      <td>13.0</td>\n",
       "      <td>NaN</td>\n",
       "      <td>1</td>\n",
       "      <td>1</td>\n",
       "      <td>1</td>\n",
       "      <td>1</td>\n",
       "      <td>1</td>\n",
       "      <td>2013</td>\n",
       "      <td>0</td>\n",
       "      <td>1</td>\n",
       "      <td>0</td>\n",
       "    </tr>\n",
       "    <tr>\n",
       "      <th>1</th>\n",
       "      <td>2013-01-02</td>\n",
       "      <td>1</td>\n",
       "      <td>1</td>\n",
       "      <td>11.0</td>\n",
       "      <td>NaN</td>\n",
       "      <td>1</td>\n",
       "      <td>2</td>\n",
       "      <td>2</td>\n",
       "      <td>2</td>\n",
       "      <td>1</td>\n",
       "      <td>2013</td>\n",
       "      <td>0</td>\n",
       "      <td>0</td>\n",
       "      <td>0</td>\n",
       "    </tr>\n",
       "    <tr>\n",
       "      <th>2</th>\n",
       "      <td>2013-01-03</td>\n",
       "      <td>1</td>\n",
       "      <td>1</td>\n",
       "      <td>14.0</td>\n",
       "      <td>NaN</td>\n",
       "      <td>1</td>\n",
       "      <td>3</td>\n",
       "      <td>3</td>\n",
       "      <td>3</td>\n",
       "      <td>1</td>\n",
       "      <td>2013</td>\n",
       "      <td>0</td>\n",
       "      <td>0</td>\n",
       "      <td>0</td>\n",
       "    </tr>\n",
       "  </tbody>\n",
       "</table>\n",
       "</div>"
      ],
      "text/plain": [
       "        date  store  item  sales  id  month  day_of_month  day_of_year  day_of_week  week_of_year  year  is_weeknd  is_month_start  is_mont_end\n",
       "0 2013-01-01      1     1   13.0 NaN      1             1            1            1             1  2013          0               1            0\n",
       "1 2013-01-02      1     1   11.0 NaN      1             2            2            2             1  2013          0               0            0\n",
       "2 2013-01-03      1     1   14.0 NaN      1             3            3            3             1  2013          0               0            0"
      ]
     },
     "metadata": {},
     "output_type": "display_data"
    }
   ],
   "source": [
    "display(df.head(3))"
   ]
  },
  {
   "cell_type": "code",
   "execution_count": 17,
   "id": "84262751",
   "metadata": {
    "execution": {
     "iopub.execute_input": "2024-07-02T23:34:24.594076Z",
     "iopub.status.busy": "2024-07-02T23:34:24.593592Z",
     "iopub.status.idle": "2024-07-02T23:34:24.751171Z",
     "shell.execute_reply": "2024-07-02T23:34:24.749898Z"
    },
    "papermill": {
     "duration": 0.189663,
     "end_time": "2024-07-02T23:34:24.754227",
     "exception": false,
     "start_time": "2024-07-02T23:34:24.564564",
     "status": "completed"
    },
    "tags": []
   },
   "outputs": [
    {
     "data": {
      "text/html": [
       "<div>\n",
       "<style scoped>\n",
       "    .dataframe tbody tr th:only-of-type {\n",
       "        vertical-align: middle;\n",
       "    }\n",
       "\n",
       "    .dataframe tbody tr th {\n",
       "        vertical-align: top;\n",
       "    }\n",
       "\n",
       "    .dataframe thead tr th {\n",
       "        text-align: left;\n",
       "    }\n",
       "\n",
       "    .dataframe thead tr:last-of-type th {\n",
       "        text-align: right;\n",
       "    }\n",
       "</style>\n",
       "<table border=\"1\" class=\"dataframe\">\n",
       "  <thead>\n",
       "    <tr>\n",
       "      <th></th>\n",
       "      <th></th>\n",
       "      <th></th>\n",
       "      <th colspan=\"4\" halign=\"left\">sales</th>\n",
       "    </tr>\n",
       "    <tr>\n",
       "      <th></th>\n",
       "      <th></th>\n",
       "      <th></th>\n",
       "      <th>sum</th>\n",
       "      <th>mean</th>\n",
       "      <th>median</th>\n",
       "      <th>std</th>\n",
       "    </tr>\n",
       "    <tr>\n",
       "      <th>store</th>\n",
       "      <th>item</th>\n",
       "      <th>month</th>\n",
       "      <th></th>\n",
       "      <th></th>\n",
       "      <th></th>\n",
       "      <th></th>\n",
       "    </tr>\n",
       "  </thead>\n",
       "  <tbody>\n",
       "    <tr>\n",
       "      <th rowspan=\"5\" valign=\"top\">1</th>\n",
       "      <th rowspan=\"5\" valign=\"top\">1</th>\n",
       "      <th>1</th>\n",
       "      <td>2125.0</td>\n",
       "      <td>13.709677</td>\n",
       "      <td>13.0</td>\n",
       "      <td>4.397413</td>\n",
       "    </tr>\n",
       "    <tr>\n",
       "      <th>2</th>\n",
       "      <td>2063.0</td>\n",
       "      <td>14.631206</td>\n",
       "      <td>14.0</td>\n",
       "      <td>4.668146</td>\n",
       "    </tr>\n",
       "    <tr>\n",
       "      <th>3</th>\n",
       "      <td>2728.0</td>\n",
       "      <td>17.600000</td>\n",
       "      <td>17.0</td>\n",
       "      <td>4.545013</td>\n",
       "    </tr>\n",
       "    <tr>\n",
       "      <th>4</th>\n",
       "      <td>3118.0</td>\n",
       "      <td>20.786667</td>\n",
       "      <td>20.0</td>\n",
       "      <td>4.894301</td>\n",
       "    </tr>\n",
       "    <tr>\n",
       "      <th>5</th>\n",
       "      <td>3448.0</td>\n",
       "      <td>22.245161</td>\n",
       "      <td>22.0</td>\n",
       "      <td>6.564705</td>\n",
       "    </tr>\n",
       "    <tr>\n",
       "      <th>...</th>\n",
       "      <th>...</th>\n",
       "      <th>...</th>\n",
       "      <td>...</td>\n",
       "      <td>...</td>\n",
       "      <td>...</td>\n",
       "      <td>...</td>\n",
       "    </tr>\n",
       "    <tr>\n",
       "      <th rowspan=\"5\" valign=\"top\">10</th>\n",
       "      <th rowspan=\"5\" valign=\"top\">50</th>\n",
       "      <th>8</th>\n",
       "      <td>13108.0</td>\n",
       "      <td>84.567742</td>\n",
       "      <td>85.0</td>\n",
       "      <td>15.676527</td>\n",
       "    </tr>\n",
       "    <tr>\n",
       "      <th>9</th>\n",
       "      <td>11831.0</td>\n",
       "      <td>78.873333</td>\n",
       "      <td>79.0</td>\n",
       "      <td>15.207423</td>\n",
       "    </tr>\n",
       "    <tr>\n",
       "      <th>10</th>\n",
       "      <td>11322.0</td>\n",
       "      <td>73.045161</td>\n",
       "      <td>72.0</td>\n",
       "      <td>14.209171</td>\n",
       "    </tr>\n",
       "    <tr>\n",
       "      <th>11</th>\n",
       "      <td>11549.0</td>\n",
       "      <td>76.993333</td>\n",
       "      <td>77.0</td>\n",
       "      <td>16.253651</td>\n",
       "    </tr>\n",
       "    <tr>\n",
       "      <th>12</th>\n",
       "      <td>8724.0</td>\n",
       "      <td>56.283871</td>\n",
       "      <td>56.0</td>\n",
       "      <td>11.782529</td>\n",
       "    </tr>\n",
       "  </tbody>\n",
       "</table>\n",
       "<p>6000 rows × 4 columns</p>\n",
       "</div>"
      ],
      "text/plain": [
       "                    sales                             \n",
       "                      sum       mean median        std\n",
       "store item month                                      \n",
       "1     1    1       2125.0  13.709677   13.0   4.397413\n",
       "           2       2063.0  14.631206   14.0   4.668146\n",
       "           3       2728.0  17.600000   17.0   4.545013\n",
       "           4       3118.0  20.786667   20.0   4.894301\n",
       "           5       3448.0  22.245161   22.0   6.564705\n",
       "...                   ...        ...    ...        ...\n",
       "10    50   8      13108.0  84.567742   85.0  15.676527\n",
       "           9      11831.0  78.873333   79.0  15.207423\n",
       "           10     11322.0  73.045161   72.0  14.209171\n",
       "           11     11549.0  76.993333   77.0  16.253651\n",
       "           12      8724.0  56.283871   56.0  11.782529\n",
       "\n",
       "[6000 rows x 4 columns]"
      ]
     },
     "metadata": {},
     "output_type": "display_data"
    }
   ],
   "source": [
    "# Mağaza, ürün, ay kırılımında satış istatistikleri\n",
    "display(df.groupby([\"store\", \"item\", \"month\"]).agg({\"sales\": [\"sum\", \"mean\", \"median\", \"std\"]}))"
   ]
  },
  {
   "cell_type": "markdown",
   "id": "d9402a2f",
   "metadata": {
    "papermill": {
     "duration": 0.027391,
     "end_time": "2024-07-02T23:34:24.809869",
     "exception": false,
     "start_time": "2024-07-02T23:34:24.782478",
     "status": "completed"
    },
    "tags": []
   },
   "source": [
    "## Random Noise (Rastgele Gürültü)\n",
    "\n",
    "<p>Üretecek olduğumuz bu yeni gecikme (lag) özellikleri bağımlı değişken üzerinden üretileceği için modelde aşırı öğrenmeye yatkınlık olacaktır. Bu yatkınlığın önüne geçebilmek için veri setine rastgele gürültüler eklemek gerekmektedir. Bu gürültü ekleme işlemini ise random_noise fonksiyonu ile yapıyor olacağız.</p>"
   ]
  },
  {
   "cell_type": "code",
   "execution_count": 18,
   "id": "0ada51da",
   "metadata": {
    "execution": {
     "iopub.execute_input": "2024-07-02T23:34:24.867428Z",
     "iopub.status.busy": "2024-07-02T23:34:24.866386Z",
     "iopub.status.idle": "2024-07-02T23:34:24.872385Z",
     "shell.execute_reply": "2024-07-02T23:34:24.871194Z"
    },
    "papermill": {
     "duration": 0.037873,
     "end_time": "2024-07-02T23:34:24.875462",
     "exception": false,
     "start_time": "2024-07-02T23:34:24.837589",
     "status": "completed"
    },
    "tags": []
   },
   "outputs": [],
   "source": [
    "def random_noise(dataframe):\n",
    "    return np.random.normal(scale=1.6, size=(len(dataframe),))"
   ]
  },
  {
   "cell_type": "markdown",
   "id": "18b3750a",
   "metadata": {
    "papermill": {
     "duration": 0.027411,
     "end_time": "2024-07-02T23:34:24.930777",
     "exception": false,
     "start_time": "2024-07-02T23:34:24.903366",
     "status": "completed"
    },
    "tags": []
   },
   "source": [
    "## Lag/Shifted Features (Gecikme/Değiştirilmiş Özellikler)\n",
    "\n",
    "<p>Burada yapacak olduğumuz işlem geçmiş dönem satış sayılarına ilişkin özellikler türetmek. Bu özelliklerde \"sales\" değerlerinin önceki dönemlerdeki değerlerini oluşturuyor olacağız.</p>"
   ]
  },
  {
   "cell_type": "code",
   "execution_count": 19,
   "id": "744c8613",
   "metadata": {
    "execution": {
     "iopub.execute_input": "2024-07-02T23:34:24.987615Z",
     "iopub.status.busy": "2024-07-02T23:34:24.987211Z",
     "iopub.status.idle": "2024-07-02T23:34:25.220138Z",
     "shell.execute_reply": "2024-07-02T23:34:25.218843Z"
    },
    "papermill": {
     "duration": 0.264693,
     "end_time": "2024-07-02T23:34:25.222943",
     "exception": false,
     "start_time": "2024-07-02T23:34:24.958250",
     "status": "completed"
    },
    "tags": []
   },
   "outputs": [],
   "source": [
    "# Bu özelliklerin oluşturulabilmesi için verinin mağaza, ürün ve tarihe göre sıralı olması gerekmektedir.\n",
    "df.sort_values(by=[\"store\", \"item\", \"date\"], axis=0, inplace=True)"
   ]
  },
  {
   "cell_type": "code",
   "execution_count": 20,
   "id": "27fb6274",
   "metadata": {
    "execution": {
     "iopub.execute_input": "2024-07-02T23:34:25.279904Z",
     "iopub.status.busy": "2024-07-02T23:34:25.279437Z",
     "iopub.status.idle": "2024-07-02T23:34:25.312409Z",
     "shell.execute_reply": "2024-07-02T23:34:25.311125Z"
    },
    "papermill": {
     "duration": 0.064759,
     "end_time": "2024-07-02T23:34:25.315276",
     "exception": false,
     "start_time": "2024-07-02T23:34:25.250517",
     "status": "completed"
    },
    "tags": []
   },
   "outputs": [
    {
     "data": {
      "text/html": [
       "<div>\n",
       "<style scoped>\n",
       "    .dataframe tbody tr th:only-of-type {\n",
       "        vertical-align: middle;\n",
       "    }\n",
       "\n",
       "    .dataframe tbody tr th {\n",
       "        vertical-align: top;\n",
       "    }\n",
       "\n",
       "    .dataframe thead th {\n",
       "        text-align: right;\n",
       "    }\n",
       "</style>\n",
       "<table border=\"1\" class=\"dataframe\">\n",
       "  <thead>\n",
       "    <tr style=\"text-align: right;\">\n",
       "      <th></th>\n",
       "      <th>sales</th>\n",
       "      <th>lag1</th>\n",
       "      <th>lag2</th>\n",
       "      <th>lag3</th>\n",
       "      <th>lag4</th>\n",
       "    </tr>\n",
       "  </thead>\n",
       "  <tbody>\n",
       "    <tr>\n",
       "      <th>0</th>\n",
       "      <td>13</td>\n",
       "      <td>NaN</td>\n",
       "      <td>NaN</td>\n",
       "      <td>NaN</td>\n",
       "      <td>NaN</td>\n",
       "    </tr>\n",
       "    <tr>\n",
       "      <th>1</th>\n",
       "      <td>11</td>\n",
       "      <td>13.0</td>\n",
       "      <td>NaN</td>\n",
       "      <td>NaN</td>\n",
       "      <td>NaN</td>\n",
       "    </tr>\n",
       "    <tr>\n",
       "      <th>2</th>\n",
       "      <td>14</td>\n",
       "      <td>11.0</td>\n",
       "      <td>13.0</td>\n",
       "      <td>NaN</td>\n",
       "      <td>NaN</td>\n",
       "    </tr>\n",
       "    <tr>\n",
       "      <th>3</th>\n",
       "      <td>13</td>\n",
       "      <td>14.0</td>\n",
       "      <td>11.0</td>\n",
       "      <td>13.0</td>\n",
       "      <td>NaN</td>\n",
       "    </tr>\n",
       "    <tr>\n",
       "      <th>4</th>\n",
       "      <td>10</td>\n",
       "      <td>13.0</td>\n",
       "      <td>14.0</td>\n",
       "      <td>11.0</td>\n",
       "      <td>13.0</td>\n",
       "    </tr>\n",
       "    <tr>\n",
       "      <th>5</th>\n",
       "      <td>12</td>\n",
       "      <td>10.0</td>\n",
       "      <td>13.0</td>\n",
       "      <td>14.0</td>\n",
       "      <td>11.0</td>\n",
       "    </tr>\n",
       "    <tr>\n",
       "      <th>6</th>\n",
       "      <td>10</td>\n",
       "      <td>12.0</td>\n",
       "      <td>10.0</td>\n",
       "      <td>13.0</td>\n",
       "      <td>14.0</td>\n",
       "    </tr>\n",
       "    <tr>\n",
       "      <th>7</th>\n",
       "      <td>9</td>\n",
       "      <td>10.0</td>\n",
       "      <td>12.0</td>\n",
       "      <td>10.0</td>\n",
       "      <td>13.0</td>\n",
       "    </tr>\n",
       "    <tr>\n",
       "      <th>8</th>\n",
       "      <td>12</td>\n",
       "      <td>9.0</td>\n",
       "      <td>10.0</td>\n",
       "      <td>12.0</td>\n",
       "      <td>10.0</td>\n",
       "    </tr>\n",
       "    <tr>\n",
       "      <th>9</th>\n",
       "      <td>9</td>\n",
       "      <td>12.0</td>\n",
       "      <td>9.0</td>\n",
       "      <td>10.0</td>\n",
       "      <td>12.0</td>\n",
       "    </tr>\n",
       "  </tbody>\n",
       "</table>\n",
       "</div>"
      ],
      "text/plain": [
       "   sales  lag1  lag2  lag3  lag4\n",
       "0     13   NaN   NaN   NaN   NaN\n",
       "1     11  13.0   NaN   NaN   NaN\n",
       "2     14  11.0  13.0   NaN   NaN\n",
       "3     13  14.0  11.0  13.0   NaN\n",
       "4     10  13.0  14.0  11.0  13.0\n",
       "5     12  10.0  13.0  14.0  11.0\n",
       "6     10  12.0  10.0  13.0  14.0\n",
       "7      9  10.0  12.0  10.0  13.0\n",
       "8     12   9.0  10.0  12.0  10.0\n",
       "9      9  12.0   9.0  10.0  12.0"
      ]
     },
     "metadata": {},
     "output_type": "display_data"
    }
   ],
   "source": [
    "display(pd.DataFrame({\"sales\": train[\"sales\"].values[0:10], \n",
    "              \"lag1\": train[\"sales\"].shift(1).values[0:10], # 1 gecikme almak demek ilgili değerin bir adım öncesindeki değeri almak demektir. \n",
    "              \"lag2\": train[\"sales\"].shift(2).values[0:10], # 2 gecikme almak demek ilgili değerin iki adım öncesindeki değeri almak demektir.\n",
    "              \"lag3\": train[\"sales\"].shift(3).values[0:10], # 3 gecikme almak demek ilgili değerin üç adım öncesindeki değeri almak demektir.\n",
    "              \"lag4\": train[\"sales\"].shift(4).values[0:10]})) # 4 gecikme almak demek ilgili değerin dört adım öncesindeki değeri almak demektir"
   ]
  },
  {
   "cell_type": "code",
   "execution_count": 21,
   "id": "35ad7939",
   "metadata": {
    "execution": {
     "iopub.execute_input": "2024-07-02T23:34:25.373082Z",
     "iopub.status.busy": "2024-07-02T23:34:25.372569Z",
     "iopub.status.idle": "2024-07-02T23:34:25.379413Z",
     "shell.execute_reply": "2024-07-02T23:34:25.378231Z"
    },
    "papermill": {
     "duration": 0.038926,
     "end_time": "2024-07-02T23:34:25.381983",
     "exception": false,
     "start_time": "2024-07-02T23:34:25.343057",
     "status": "completed"
    },
    "tags": []
   },
   "outputs": [],
   "source": [
    "def lag_features(dataframe, lags):\n",
    "    for lag in lags:\n",
    "        dataframe[\"sales_lag_\" + str(lag)] = dataframe.groupby([\"store\", \"item\"])[\"sales\"].transform(lambda x: x.shift(lag)) + random_noise(dataframe)\n",
    "    return dataframe"
   ]
  },
  {
   "cell_type": "code",
   "execution_count": 22,
   "id": "c5fb6ca0",
   "metadata": {
    "execution": {
     "iopub.execute_input": "2024-07-02T23:34:25.439824Z",
     "iopub.status.busy": "2024-07-02T23:34:25.439367Z",
     "iopub.status.idle": "2024-07-02T23:34:27.601408Z",
     "shell.execute_reply": "2024-07-02T23:34:27.600276Z"
    },
    "papermill": {
     "duration": 2.194243,
     "end_time": "2024-07-02T23:34:27.604494",
     "exception": false,
     "start_time": "2024-07-02T23:34:25.410251",
     "status": "completed"
    },
    "tags": []
   },
   "outputs": [],
   "source": [
    "df = lag_features(df, [91, 98, 105, 112, 119, 126, 182, 364, 526, 728])"
   ]
  },
  {
   "cell_type": "code",
   "execution_count": 23,
   "id": "ffedb39c",
   "metadata": {
    "execution": {
     "iopub.execute_input": "2024-07-02T23:34:27.661743Z",
     "iopub.status.busy": "2024-07-02T23:34:27.661292Z",
     "iopub.status.idle": "2024-07-02T23:34:27.685894Z",
     "shell.execute_reply": "2024-07-02T23:34:27.684502Z"
    },
    "papermill": {
     "duration": 0.056007,
     "end_time": "2024-07-02T23:34:27.688519",
     "exception": false,
     "start_time": "2024-07-02T23:34:27.632512",
     "status": "completed"
    },
    "tags": []
   },
   "outputs": [
    {
     "data": {
      "text/html": [
       "<div>\n",
       "<style scoped>\n",
       "    .dataframe tbody tr th:only-of-type {\n",
       "        vertical-align: middle;\n",
       "    }\n",
       "\n",
       "    .dataframe tbody tr th {\n",
       "        vertical-align: top;\n",
       "    }\n",
       "\n",
       "    .dataframe thead th {\n",
       "        text-align: right;\n",
       "    }\n",
       "</style>\n",
       "<table border=\"1\" class=\"dataframe\">\n",
       "  <thead>\n",
       "    <tr style=\"text-align: right;\">\n",
       "      <th></th>\n",
       "      <th>date</th>\n",
       "      <th>store</th>\n",
       "      <th>item</th>\n",
       "      <th>sales</th>\n",
       "      <th>id</th>\n",
       "      <th>month</th>\n",
       "      <th>day_of_month</th>\n",
       "      <th>day_of_year</th>\n",
       "      <th>day_of_week</th>\n",
       "      <th>week_of_year</th>\n",
       "      <th>year</th>\n",
       "      <th>is_weeknd</th>\n",
       "      <th>is_month_start</th>\n",
       "      <th>is_mont_end</th>\n",
       "      <th>sales_lag_91</th>\n",
       "      <th>sales_lag_98</th>\n",
       "      <th>sales_lag_105</th>\n",
       "      <th>sales_lag_112</th>\n",
       "      <th>sales_lag_119</th>\n",
       "      <th>sales_lag_126</th>\n",
       "      <th>sales_lag_182</th>\n",
       "      <th>sales_lag_364</th>\n",
       "      <th>sales_lag_526</th>\n",
       "      <th>sales_lag_728</th>\n",
       "    </tr>\n",
       "  </thead>\n",
       "  <tbody>\n",
       "    <tr>\n",
       "      <th>0</th>\n",
       "      <td>2013-01-01</td>\n",
       "      <td>1</td>\n",
       "      <td>1</td>\n",
       "      <td>13.0</td>\n",
       "      <td>NaN</td>\n",
       "      <td>1</td>\n",
       "      <td>1</td>\n",
       "      <td>1</td>\n",
       "      <td>1</td>\n",
       "      <td>1</td>\n",
       "      <td>2013</td>\n",
       "      <td>0</td>\n",
       "      <td>1</td>\n",
       "      <td>0</td>\n",
       "      <td>NaN</td>\n",
       "      <td>NaN</td>\n",
       "      <td>NaN</td>\n",
       "      <td>NaN</td>\n",
       "      <td>NaN</td>\n",
       "      <td>NaN</td>\n",
       "      <td>NaN</td>\n",
       "      <td>NaN</td>\n",
       "      <td>NaN</td>\n",
       "      <td>NaN</td>\n",
       "    </tr>\n",
       "    <tr>\n",
       "      <th>1</th>\n",
       "      <td>2013-01-02</td>\n",
       "      <td>1</td>\n",
       "      <td>1</td>\n",
       "      <td>11.0</td>\n",
       "      <td>NaN</td>\n",
       "      <td>1</td>\n",
       "      <td>2</td>\n",
       "      <td>2</td>\n",
       "      <td>2</td>\n",
       "      <td>1</td>\n",
       "      <td>2013</td>\n",
       "      <td>0</td>\n",
       "      <td>0</td>\n",
       "      <td>0</td>\n",
       "      <td>NaN</td>\n",
       "      <td>NaN</td>\n",
       "      <td>NaN</td>\n",
       "      <td>NaN</td>\n",
       "      <td>NaN</td>\n",
       "      <td>NaN</td>\n",
       "      <td>NaN</td>\n",
       "      <td>NaN</td>\n",
       "      <td>NaN</td>\n",
       "      <td>NaN</td>\n",
       "    </tr>\n",
       "    <tr>\n",
       "      <th>2</th>\n",
       "      <td>2013-01-03</td>\n",
       "      <td>1</td>\n",
       "      <td>1</td>\n",
       "      <td>14.0</td>\n",
       "      <td>NaN</td>\n",
       "      <td>1</td>\n",
       "      <td>3</td>\n",
       "      <td>3</td>\n",
       "      <td>3</td>\n",
       "      <td>1</td>\n",
       "      <td>2013</td>\n",
       "      <td>0</td>\n",
       "      <td>0</td>\n",
       "      <td>0</td>\n",
       "      <td>NaN</td>\n",
       "      <td>NaN</td>\n",
       "      <td>NaN</td>\n",
       "      <td>NaN</td>\n",
       "      <td>NaN</td>\n",
       "      <td>NaN</td>\n",
       "      <td>NaN</td>\n",
       "      <td>NaN</td>\n",
       "      <td>NaN</td>\n",
       "      <td>NaN</td>\n",
       "    </tr>\n",
       "  </tbody>\n",
       "</table>\n",
       "</div>"
      ],
      "text/plain": [
       "        date  store  item  sales  id  month  day_of_month  day_of_year  day_of_week  week_of_year  year  is_weeknd  is_month_start  is_mont_end  sales_lag_91  sales_lag_98  sales_lag_105  sales_lag_112  sales_lag_119  sales_lag_126  sales_lag_182  sales_lag_364  sales_lag_526  sales_lag_728\n",
       "0 2013-01-01      1     1   13.0 NaN      1             1            1            1             1  2013          0               1            0           NaN           NaN            NaN            NaN            NaN            NaN            NaN            NaN            NaN            NaN\n",
       "1 2013-01-02      1     1   11.0 NaN      1             2            2            2             1  2013          0               0            0           NaN           NaN            NaN            NaN            NaN            NaN            NaN            NaN            NaN            NaN\n",
       "2 2013-01-03      1     1   14.0 NaN      1             3            3            3             1  2013          0               0            0           NaN           NaN            NaN            NaN            NaN            NaN            NaN            NaN            NaN            NaN"
      ]
     },
     "metadata": {},
     "output_type": "display_data"
    }
   ],
   "source": [
    "display(df.head(3))"
   ]
  },
  {
   "cell_type": "markdown",
   "id": "fba0a03a",
   "metadata": {
    "papermill": {
     "duration": 0.028081,
     "end_time": "2024-07-02T23:34:27.745401",
     "exception": false,
     "start_time": "2024-07-02T23:34:27.717320",
     "status": "completed"
    },
    "tags": []
   },
   "source": [
    "## Rolling Mean Features (Hareketli Ortalama Özellikleri)"
   ]
  },
  {
   "cell_type": "code",
   "execution_count": 24,
   "id": "851a7032",
   "metadata": {
    "execution": {
     "iopub.execute_input": "2024-07-02T23:34:27.803744Z",
     "iopub.status.busy": "2024-07-02T23:34:27.803326Z",
     "iopub.status.idle": "2024-07-02T23:34:27.891955Z",
     "shell.execute_reply": "2024-07-02T23:34:27.890821Z"
    },
    "papermill": {
     "duration": 0.121208,
     "end_time": "2024-07-02T23:34:27.894817",
     "exception": false,
     "start_time": "2024-07-02T23:34:27.773609",
     "status": "completed"
    },
    "tags": []
   },
   "outputs": [
    {
     "data": {
      "text/html": [
       "<div>\n",
       "<style scoped>\n",
       "    .dataframe tbody tr th:only-of-type {\n",
       "        vertical-align: middle;\n",
       "    }\n",
       "\n",
       "    .dataframe tbody tr th {\n",
       "        vertical-align: top;\n",
       "    }\n",
       "\n",
       "    .dataframe thead th {\n",
       "        text-align: right;\n",
       "    }\n",
       "</style>\n",
       "<table border=\"1\" class=\"dataframe\">\n",
       "  <thead>\n",
       "    <tr style=\"text-align: right;\">\n",
       "      <th></th>\n",
       "      <th>sales</th>\n",
       "      <th>roll2</th>\n",
       "      <th>roll3</th>\n",
       "      <th>roll5</th>\n",
       "    </tr>\n",
       "  </thead>\n",
       "  <tbody>\n",
       "    <tr>\n",
       "      <th>0</th>\n",
       "      <td>13</td>\n",
       "      <td>NaN</td>\n",
       "      <td>NaN</td>\n",
       "      <td>NaN</td>\n",
       "    </tr>\n",
       "    <tr>\n",
       "      <th>1</th>\n",
       "      <td>11</td>\n",
       "      <td>12.0</td>\n",
       "      <td>NaN</td>\n",
       "      <td>NaN</td>\n",
       "    </tr>\n",
       "    <tr>\n",
       "      <th>2</th>\n",
       "      <td>14</td>\n",
       "      <td>12.5</td>\n",
       "      <td>12.666667</td>\n",
       "      <td>NaN</td>\n",
       "    </tr>\n",
       "    <tr>\n",
       "      <th>3</th>\n",
       "      <td>13</td>\n",
       "      <td>13.5</td>\n",
       "      <td>12.666667</td>\n",
       "      <td>NaN</td>\n",
       "    </tr>\n",
       "    <tr>\n",
       "      <th>4</th>\n",
       "      <td>10</td>\n",
       "      <td>11.5</td>\n",
       "      <td>12.333333</td>\n",
       "      <td>12.2</td>\n",
       "    </tr>\n",
       "    <tr>\n",
       "      <th>5</th>\n",
       "      <td>12</td>\n",
       "      <td>11.0</td>\n",
       "      <td>11.666667</td>\n",
       "      <td>12.0</td>\n",
       "    </tr>\n",
       "    <tr>\n",
       "      <th>6</th>\n",
       "      <td>10</td>\n",
       "      <td>11.0</td>\n",
       "      <td>10.666667</td>\n",
       "      <td>11.8</td>\n",
       "    </tr>\n",
       "    <tr>\n",
       "      <th>7</th>\n",
       "      <td>9</td>\n",
       "      <td>9.5</td>\n",
       "      <td>10.333333</td>\n",
       "      <td>10.8</td>\n",
       "    </tr>\n",
       "    <tr>\n",
       "      <th>8</th>\n",
       "      <td>12</td>\n",
       "      <td>10.5</td>\n",
       "      <td>10.333333</td>\n",
       "      <td>10.6</td>\n",
       "    </tr>\n",
       "    <tr>\n",
       "      <th>9</th>\n",
       "      <td>9</td>\n",
       "      <td>10.5</td>\n",
       "      <td>10.000000</td>\n",
       "      <td>10.4</td>\n",
       "    </tr>\n",
       "  </tbody>\n",
       "</table>\n",
       "</div>"
      ],
      "text/plain": [
       "   sales  roll2      roll3  roll5\n",
       "0     13    NaN        NaN    NaN\n",
       "1     11   12.0        NaN    NaN\n",
       "2     14   12.5  12.666667    NaN\n",
       "3     13   13.5  12.666667    NaN\n",
       "4     10   11.5  12.333333   12.2\n",
       "5     12   11.0  11.666667   12.0\n",
       "6     10   11.0  10.666667   11.8\n",
       "7      9    9.5  10.333333   10.8\n",
       "8     12   10.5  10.333333   10.6\n",
       "9      9   10.5  10.000000   10.4"
      ]
     },
     "metadata": {},
     "output_type": "display_data"
    }
   ],
   "source": [
    "display(pd.DataFrame({\"sales\": train[\"sales\"].values[0:10], \n",
    "              \"roll2\": train[\"sales\"].rolling(window=2).mean().values[0:10], # İlgili değerin kendisi dahil 2 değer önceki değerlerin ortalaması\n",
    "              \"roll3\": train[\"sales\"].rolling(window=3).mean().values[0:10], # İlgili değerin kendisi dahil 3 değer önceki değerlerin ortalaması\n",
    "              \"roll5\": train[\"sales\"].rolling(window=5).mean().values[0:10]})) # İlgili değerin kendisi dahil 5 değer önceki değerlerin ortalaması"
   ]
  },
  {
   "cell_type": "markdown",
   "id": "106b2c43",
   "metadata": {
    "papermill": {
     "duration": 0.027929,
     "end_time": "2024-07-02T23:34:27.951163",
     "exception": false,
     "start_time": "2024-07-02T23:34:27.923234",
     "status": "completed"
    },
    "tags": []
   },
   "source": [
    "<p>Hareketli ortalama featurlarını yukarıdaki şekilde olduğu gibi türetmek hatalı bir kullanım olacaktır o yüzden bu featurları böyle değil, 1 adet gecikme aldıktan sonra türetmemiz gerekmektedir.</p>"
   ]
  },
  {
   "cell_type": "code",
   "execution_count": 25,
   "id": "6cb21202",
   "metadata": {
    "execution": {
     "iopub.execute_input": "2024-07-02T23:34:28.009361Z",
     "iopub.status.busy": "2024-07-02T23:34:28.008955Z",
     "iopub.status.idle": "2024-07-02T23:34:28.104719Z",
     "shell.execute_reply": "2024-07-02T23:34:28.103586Z"
    },
    "papermill": {
     "duration": 0.128217,
     "end_time": "2024-07-02T23:34:28.107416",
     "exception": false,
     "start_time": "2024-07-02T23:34:27.979199",
     "status": "completed"
    },
    "tags": []
   },
   "outputs": [
    {
     "data": {
      "text/html": [
       "<div>\n",
       "<style scoped>\n",
       "    .dataframe tbody tr th:only-of-type {\n",
       "        vertical-align: middle;\n",
       "    }\n",
       "\n",
       "    .dataframe tbody tr th {\n",
       "        vertical-align: top;\n",
       "    }\n",
       "\n",
       "    .dataframe thead th {\n",
       "        text-align: right;\n",
       "    }\n",
       "</style>\n",
       "<table border=\"1\" class=\"dataframe\">\n",
       "  <thead>\n",
       "    <tr style=\"text-align: right;\">\n",
       "      <th></th>\n",
       "      <th>sales</th>\n",
       "      <th>roll2</th>\n",
       "      <th>roll3</th>\n",
       "      <th>roll5</th>\n",
       "    </tr>\n",
       "  </thead>\n",
       "  <tbody>\n",
       "    <tr>\n",
       "      <th>0</th>\n",
       "      <td>13</td>\n",
       "      <td>NaN</td>\n",
       "      <td>NaN</td>\n",
       "      <td>NaN</td>\n",
       "    </tr>\n",
       "    <tr>\n",
       "      <th>1</th>\n",
       "      <td>11</td>\n",
       "      <td>NaN</td>\n",
       "      <td>NaN</td>\n",
       "      <td>NaN</td>\n",
       "    </tr>\n",
       "    <tr>\n",
       "      <th>2</th>\n",
       "      <td>14</td>\n",
       "      <td>12.0</td>\n",
       "      <td>NaN</td>\n",
       "      <td>NaN</td>\n",
       "    </tr>\n",
       "    <tr>\n",
       "      <th>3</th>\n",
       "      <td>13</td>\n",
       "      <td>12.5</td>\n",
       "      <td>12.666667</td>\n",
       "      <td>NaN</td>\n",
       "    </tr>\n",
       "    <tr>\n",
       "      <th>4</th>\n",
       "      <td>10</td>\n",
       "      <td>13.5</td>\n",
       "      <td>12.666667</td>\n",
       "      <td>NaN</td>\n",
       "    </tr>\n",
       "    <tr>\n",
       "      <th>5</th>\n",
       "      <td>12</td>\n",
       "      <td>11.5</td>\n",
       "      <td>12.333333</td>\n",
       "      <td>12.2</td>\n",
       "    </tr>\n",
       "    <tr>\n",
       "      <th>6</th>\n",
       "      <td>10</td>\n",
       "      <td>11.0</td>\n",
       "      <td>11.666667</td>\n",
       "      <td>12.0</td>\n",
       "    </tr>\n",
       "    <tr>\n",
       "      <th>7</th>\n",
       "      <td>9</td>\n",
       "      <td>11.0</td>\n",
       "      <td>10.666667</td>\n",
       "      <td>11.8</td>\n",
       "    </tr>\n",
       "    <tr>\n",
       "      <th>8</th>\n",
       "      <td>12</td>\n",
       "      <td>9.5</td>\n",
       "      <td>10.333333</td>\n",
       "      <td>10.8</td>\n",
       "    </tr>\n",
       "    <tr>\n",
       "      <th>9</th>\n",
       "      <td>9</td>\n",
       "      <td>10.5</td>\n",
       "      <td>10.333333</td>\n",
       "      <td>10.6</td>\n",
       "    </tr>\n",
       "  </tbody>\n",
       "</table>\n",
       "</div>"
      ],
      "text/plain": [
       "   sales  roll2      roll3  roll5\n",
       "0     13    NaN        NaN    NaN\n",
       "1     11    NaN        NaN    NaN\n",
       "2     14   12.0        NaN    NaN\n",
       "3     13   12.5  12.666667    NaN\n",
       "4     10   13.5  12.666667    NaN\n",
       "5     12   11.5  12.333333   12.2\n",
       "6     10   11.0  11.666667   12.0\n",
       "7      9   11.0  10.666667   11.8\n",
       "8     12    9.5  10.333333   10.8\n",
       "9      9   10.5  10.333333   10.6"
      ]
     },
     "metadata": {},
     "output_type": "display_data"
    }
   ],
   "source": [
    "display(pd.DataFrame({\"sales\": train[\"sales\"].values[0:10], \n",
    "              \"roll2\": train[\"sales\"].shift(1).rolling(window=2).mean().values[0:10], # İlgili değerin kendisinden önceki 2 değerin ortalaması\n",
    "              \"roll3\": train[\"sales\"].shift(1).rolling(window=3).mean().values[0:10], # İlgili değerin kendisinden önceki 3 değerin ortalaması\n",
    "              \"roll5\": train[\"sales\"].shift(1).rolling(window=5).mean().values[0:10]})) # İlgili değerin kendisinden öcenki 5 değerin ortalaması"
   ]
  },
  {
   "cell_type": "code",
   "execution_count": 26,
   "id": "049f27cf",
   "metadata": {
    "execution": {
     "iopub.execute_input": "2024-07-02T23:34:28.166399Z",
     "iopub.status.busy": "2024-07-02T23:34:28.165998Z",
     "iopub.status.idle": "2024-07-02T23:34:28.173807Z",
     "shell.execute_reply": "2024-07-02T23:34:28.172319Z"
    },
    "papermill": {
     "duration": 0.040472,
     "end_time": "2024-07-02T23:34:28.176480",
     "exception": false,
     "start_time": "2024-07-02T23:34:28.136008",
     "status": "completed"
    },
    "tags": []
   },
   "outputs": [],
   "source": [
    "def roll_mean_features(dataframe, windows):\n",
    "    for window in windows:\n",
    "        dataframe[\"sales_roll_mean_\" + str(window)] = dataframe.groupby([\"store\", \"item\"])[\"sales\"].transform(lambda x: x.shift(1).rolling(window=window, min_periods=10, win_type=\"triang\").mean()) + random_noise(dataframe)\n",
    "    return dataframe"
   ]
  },
  {
   "cell_type": "code",
   "execution_count": 27,
   "id": "215542a9",
   "metadata": {
    "execution": {
     "iopub.execute_input": "2024-07-02T23:34:28.236511Z",
     "iopub.status.busy": "2024-07-02T23:34:28.236127Z",
     "iopub.status.idle": "2024-07-02T23:34:30.984562Z",
     "shell.execute_reply": "2024-07-02T23:34:30.983348Z"
    },
    "papermill": {
     "duration": 2.78148,
     "end_time": "2024-07-02T23:34:30.987506",
     "exception": false,
     "start_time": "2024-07-02T23:34:28.206026",
     "status": "completed"
    },
    "tags": []
   },
   "outputs": [],
   "source": [
    "df = roll_mean_features(df, [365, 546]) # 1 yıl önceki ve 1.5 yıl önceki değerlerin toplamının hareketli ortalaması"
   ]
  },
  {
   "cell_type": "code",
   "execution_count": 28,
   "id": "6bff8e1f",
   "metadata": {
    "execution": {
     "iopub.execute_input": "2024-07-02T23:34:31.046847Z",
     "iopub.status.busy": "2024-07-02T23:34:31.046391Z",
     "iopub.status.idle": "2024-07-02T23:34:31.075468Z",
     "shell.execute_reply": "2024-07-02T23:34:31.074201Z"
    },
    "papermill": {
     "duration": 0.061786,
     "end_time": "2024-07-02T23:34:31.078096",
     "exception": false,
     "start_time": "2024-07-02T23:34:31.016310",
     "status": "completed"
    },
    "tags": []
   },
   "outputs": [
    {
     "data": {
      "text/html": [
       "<div>\n",
       "<style scoped>\n",
       "    .dataframe tbody tr th:only-of-type {\n",
       "        vertical-align: middle;\n",
       "    }\n",
       "\n",
       "    .dataframe tbody tr th {\n",
       "        vertical-align: top;\n",
       "    }\n",
       "\n",
       "    .dataframe thead th {\n",
       "        text-align: right;\n",
       "    }\n",
       "</style>\n",
       "<table border=\"1\" class=\"dataframe\">\n",
       "  <thead>\n",
       "    <tr style=\"text-align: right;\">\n",
       "      <th></th>\n",
       "      <th>date</th>\n",
       "      <th>store</th>\n",
       "      <th>item</th>\n",
       "      <th>sales</th>\n",
       "      <th>id</th>\n",
       "      <th>month</th>\n",
       "      <th>day_of_month</th>\n",
       "      <th>day_of_year</th>\n",
       "      <th>day_of_week</th>\n",
       "      <th>week_of_year</th>\n",
       "      <th>year</th>\n",
       "      <th>is_weeknd</th>\n",
       "      <th>is_month_start</th>\n",
       "      <th>is_mont_end</th>\n",
       "      <th>sales_lag_91</th>\n",
       "      <th>sales_lag_98</th>\n",
       "      <th>sales_lag_105</th>\n",
       "      <th>sales_lag_112</th>\n",
       "      <th>sales_lag_119</th>\n",
       "      <th>sales_lag_126</th>\n",
       "      <th>sales_lag_182</th>\n",
       "      <th>sales_lag_364</th>\n",
       "      <th>sales_lag_526</th>\n",
       "      <th>sales_lag_728</th>\n",
       "      <th>sales_roll_mean_365</th>\n",
       "      <th>sales_roll_mean_546</th>\n",
       "    </tr>\n",
       "  </thead>\n",
       "  <tbody>\n",
       "    <tr>\n",
       "      <th>44997</th>\n",
       "      <td>2018-03-29</td>\n",
       "      <td>10</td>\n",
       "      <td>50</td>\n",
       "      <td>NaN</td>\n",
       "      <td>44997.0</td>\n",
       "      <td>3</td>\n",
       "      <td>29</td>\n",
       "      <td>88</td>\n",
       "      <td>3</td>\n",
       "      <td>13</td>\n",
       "      <td>2018</td>\n",
       "      <td>0</td>\n",
       "      <td>0</td>\n",
       "      <td>0</td>\n",
       "      <td>58.564291</td>\n",
       "      <td>62.571814</td>\n",
       "      <td>75.677856</td>\n",
       "      <td>67.231807</td>\n",
       "      <td>75.187692</td>\n",
       "      <td>85.852864</td>\n",
       "      <td>81.781517</td>\n",
       "      <td>66.896663</td>\n",
       "      <td>79.738691</td>\n",
       "      <td>74.188486</td>\n",
       "      <td>85.037868</td>\n",
       "      <td>87.248059</td>\n",
       "    </tr>\n",
       "    <tr>\n",
       "      <th>44998</th>\n",
       "      <td>2018-03-30</td>\n",
       "      <td>10</td>\n",
       "      <td>50</td>\n",
       "      <td>NaN</td>\n",
       "      <td>44998.0</td>\n",
       "      <td>3</td>\n",
       "      <td>30</td>\n",
       "      <td>89</td>\n",
       "      <td>4</td>\n",
       "      <td>13</td>\n",
       "      <td>2018</td>\n",
       "      <td>1</td>\n",
       "      <td>0</td>\n",
       "      <td>0</td>\n",
       "      <td>76.028190</td>\n",
       "      <td>73.187882</td>\n",
       "      <td>72.421306</td>\n",
       "      <td>65.213870</td>\n",
       "      <td>67.189873</td>\n",
       "      <td>84.517664</td>\n",
       "      <td>90.749780</td>\n",
       "      <td>69.015232</td>\n",
       "      <td>88.949852</td>\n",
       "      <td>80.380830</td>\n",
       "      <td>90.014977</td>\n",
       "      <td>85.824887</td>\n",
       "    </tr>\n",
       "    <tr>\n",
       "      <th>44999</th>\n",
       "      <td>2018-03-31</td>\n",
       "      <td>10</td>\n",
       "      <td>50</td>\n",
       "      <td>NaN</td>\n",
       "      <td>44999.0</td>\n",
       "      <td>3</td>\n",
       "      <td>31</td>\n",
       "      <td>90</td>\n",
       "      <td>5</td>\n",
       "      <td>13</td>\n",
       "      <td>2018</td>\n",
       "      <td>1</td>\n",
       "      <td>0</td>\n",
       "      <td>1</td>\n",
       "      <td>61.530804</td>\n",
       "      <td>70.544821</td>\n",
       "      <td>53.575863</td>\n",
       "      <td>68.839899</td>\n",
       "      <td>52.277718</td>\n",
       "      <td>77.137437</td>\n",
       "      <td>101.308311</td>\n",
       "      <td>100.434310</td>\n",
       "      <td>80.124868</td>\n",
       "      <td>83.242616</td>\n",
       "      <td>89.132563</td>\n",
       "      <td>84.996759</td>\n",
       "    </tr>\n",
       "  </tbody>\n",
       "</table>\n",
       "</div>"
      ],
      "text/plain": [
       "            date  store  item  sales       id  month  day_of_month  day_of_year  day_of_week  week_of_year  year  is_weeknd  is_month_start  is_mont_end  sales_lag_91  sales_lag_98  sales_lag_105  sales_lag_112  sales_lag_119  sales_lag_126  sales_lag_182  sales_lag_364  sales_lag_526  sales_lag_728  sales_roll_mean_365  sales_roll_mean_546\n",
       "44997 2018-03-29     10    50    NaN  44997.0      3            29           88            3            13  2018          0               0            0     58.564291     62.571814      75.677856      67.231807      75.187692      85.852864      81.781517      66.896663      79.738691      74.188486            85.037868            87.248059\n",
       "44998 2018-03-30     10    50    NaN  44998.0      3            30           89            4            13  2018          1               0            0     76.028190     73.187882      72.421306      65.213870      67.189873      84.517664      90.749780      69.015232      88.949852      80.380830            90.014977            85.824887\n",
       "44999 2018-03-31     10    50    NaN  44999.0      3            31           90            5            13  2018          1               0            1     61.530804     70.544821      53.575863      68.839899      52.277718      77.137437     101.308311     100.434310      80.124868      83.242616            89.132563            84.996759"
      ]
     },
     "metadata": {},
     "output_type": "display_data"
    }
   ],
   "source": [
    "display(df.tail(3))"
   ]
  },
  {
   "cell_type": "markdown",
   "id": "dc9d2f0c",
   "metadata": {
    "papermill": {
     "duration": 0.02966,
     "end_time": "2024-07-02T23:34:31.137540",
     "exception": false,
     "start_time": "2024-07-02T23:34:31.107880",
     "status": "completed"
    },
    "tags": []
   },
   "source": [
    "## Exponentially Weighted Average Features (Üstel Ağırlıklı Ortalama Özellikleri)\n",
    "\n",
    "<p>Üstel ağırlıklı ortalama (exponentially weighted average, EWA) zaman serisi tahminleme projelerinde önemli bir rol oynar. Bu yöntem, geçmiş verilerin daha güncel gözlemlere daha fazla ağırlık vererek kullanılması anlamına gelir.\n",
    "\n",
    "Burada kaç adım öncesine gidilecek ve bu üstsel ağırlıklı ortalamalar için alpha değeri belirleme gibi problemlerimiz olacak. \n",
    "    \n",
    "Bir diğer değişle gecikme sayısı (lags) ve alpha değerlerinin ne olacağını belirlememiz gerekecek.</p>"
   ]
  },
  {
   "cell_type": "code",
   "execution_count": 29,
   "id": "ce61d74a",
   "metadata": {
    "execution": {
     "iopub.execute_input": "2024-07-02T23:34:31.198573Z",
     "iopub.status.busy": "2024-07-02T23:34:31.198144Z",
     "iopub.status.idle": "2024-07-02T23:34:31.300062Z",
     "shell.execute_reply": "2024-07-02T23:34:31.298725Z"
    },
    "papermill": {
     "duration": 0.135264,
     "end_time": "2024-07-02T23:34:31.302949",
     "exception": false,
     "start_time": "2024-07-02T23:34:31.167685",
     "status": "completed"
    },
    "tags": []
   },
   "outputs": [
    {
     "data": {
      "text/html": [
       "<div>\n",
       "<style scoped>\n",
       "    .dataframe tbody tr th:only-of-type {\n",
       "        vertical-align: middle;\n",
       "    }\n",
       "\n",
       "    .dataframe tbody tr th {\n",
       "        vertical-align: top;\n",
       "    }\n",
       "\n",
       "    .dataframe thead th {\n",
       "        text-align: right;\n",
       "    }\n",
       "</style>\n",
       "<table border=\"1\" class=\"dataframe\">\n",
       "  <thead>\n",
       "    <tr style=\"text-align: right;\">\n",
       "      <th></th>\n",
       "      <th>sales</th>\n",
       "      <th>roll2</th>\n",
       "      <th>emw099</th>\n",
       "      <th>emw095</th>\n",
       "      <th>emw070</th>\n",
       "      <th>emw020</th>\n",
       "    </tr>\n",
       "  </thead>\n",
       "  <tbody>\n",
       "    <tr>\n",
       "      <th>0</th>\n",
       "      <td>13</td>\n",
       "      <td>NaN</td>\n",
       "      <td>NaN</td>\n",
       "      <td>NaN</td>\n",
       "      <td>NaN</td>\n",
       "      <td>NaN</td>\n",
       "    </tr>\n",
       "    <tr>\n",
       "      <th>1</th>\n",
       "      <td>11</td>\n",
       "      <td>NaN</td>\n",
       "      <td>13.000000</td>\n",
       "      <td>13.000000</td>\n",
       "      <td>13.000000</td>\n",
       "      <td>13.000000</td>\n",
       "    </tr>\n",
       "    <tr>\n",
       "      <th>2</th>\n",
       "      <td>14</td>\n",
       "      <td>12.0</td>\n",
       "      <td>11.019802</td>\n",
       "      <td>11.095238</td>\n",
       "      <td>11.461538</td>\n",
       "      <td>11.888889</td>\n",
       "    </tr>\n",
       "    <tr>\n",
       "      <th>3</th>\n",
       "      <td>13</td>\n",
       "      <td>12.5</td>\n",
       "      <td>13.970201</td>\n",
       "      <td>13.855107</td>\n",
       "      <td>13.287770</td>\n",
       "      <td>12.754098</td>\n",
       "    </tr>\n",
       "    <tr>\n",
       "      <th>4</th>\n",
       "      <td>10</td>\n",
       "      <td>13.5</td>\n",
       "      <td>13.009702</td>\n",
       "      <td>13.042750</td>\n",
       "      <td>13.084686</td>\n",
       "      <td>12.837398</td>\n",
       "    </tr>\n",
       "    <tr>\n",
       "      <th>5</th>\n",
       "      <td>12</td>\n",
       "      <td>11.5</td>\n",
       "      <td>10.030097</td>\n",
       "      <td>10.152137</td>\n",
       "      <td>10.920146</td>\n",
       "      <td>11.993337</td>\n",
       "    </tr>\n",
       "    <tr>\n",
       "      <th>6</th>\n",
       "      <td>10</td>\n",
       "      <td>11.0</td>\n",
       "      <td>11.980301</td>\n",
       "      <td>11.907607</td>\n",
       "      <td>11.676595</td>\n",
       "      <td>11.995143</td>\n",
       "    </tr>\n",
       "    <tr>\n",
       "      <th>7</th>\n",
       "      <td>9</td>\n",
       "      <td>11.0</td>\n",
       "      <td>10.019803</td>\n",
       "      <td>10.095380</td>\n",
       "      <td>10.502722</td>\n",
       "      <td>11.490225</td>\n",
       "    </tr>\n",
       "    <tr>\n",
       "      <th>8</th>\n",
       "      <td>12</td>\n",
       "      <td>9.5</td>\n",
       "      <td>9.010198</td>\n",
       "      <td>9.054769</td>\n",
       "      <td>9.450748</td>\n",
       "      <td>10.891777</td>\n",
       "    </tr>\n",
       "    <tr>\n",
       "      <th>9</th>\n",
       "      <td>9</td>\n",
       "      <td>10.5</td>\n",
       "      <td>11.970102</td>\n",
       "      <td>11.852738</td>\n",
       "      <td>11.235259</td>\n",
       "      <td>11.147782</td>\n",
       "    </tr>\n",
       "  </tbody>\n",
       "</table>\n",
       "</div>"
      ],
      "text/plain": [
       "   sales  roll2     emw099     emw095     emw070     emw020\n",
       "0     13    NaN        NaN        NaN        NaN        NaN\n",
       "1     11    NaN  13.000000  13.000000  13.000000  13.000000\n",
       "2     14   12.0  11.019802  11.095238  11.461538  11.888889\n",
       "3     13   12.5  13.970201  13.855107  13.287770  12.754098\n",
       "4     10   13.5  13.009702  13.042750  13.084686  12.837398\n",
       "5     12   11.5  10.030097  10.152137  10.920146  11.993337\n",
       "6     10   11.0  11.980301  11.907607  11.676595  11.995143\n",
       "7      9   11.0  10.019803  10.095380  10.502722  11.490225\n",
       "8     12    9.5   9.010198   9.054769   9.450748  10.891777\n",
       "9      9   10.5  11.970102  11.852738  11.235259  11.147782"
      ]
     },
     "metadata": {},
     "output_type": "display_data"
    }
   ],
   "source": [
    "display(pd.DataFrame({\"sales\": train[\"sales\"].values[0:10], \n",
    "              \"roll2\": train[\"sales\"].shift(1).rolling(window=2).mean().values[0:10], \n",
    "              \"emw099\": train[\"sales\"].shift(1).ewm(alpha=0.99).mean().values[0:10], \n",
    "              \"emw095\": train[\"sales\"].shift(1).ewm(alpha=0.95).mean().values[0:10], \n",
    "              \"emw070\": train[\"sales\"].shift(1).ewm(alpha=0.70).mean().values[0:10], \n",
    "              \"emw020\": train[\"sales\"].shift(1).ewm(alpha=0.20).mean().values[0:10]}))"
   ]
  },
  {
   "cell_type": "code",
   "execution_count": 30,
   "id": "01916196",
   "metadata": {
    "execution": {
     "iopub.execute_input": "2024-07-02T23:34:31.366016Z",
     "iopub.status.busy": "2024-07-02T23:34:31.365530Z",
     "iopub.status.idle": "2024-07-02T23:34:31.373512Z",
     "shell.execute_reply": "2024-07-02T23:34:31.372130Z"
    },
    "papermill": {
     "duration": 0.041736,
     "end_time": "2024-07-02T23:34:31.376280",
     "exception": false,
     "start_time": "2024-07-02T23:34:31.334544",
     "status": "completed"
    },
    "tags": []
   },
   "outputs": [],
   "source": [
    "def ewm_features(dataframe, alphas, lags):\n",
    "    for alpha in alphas:\n",
    "        for lag in lags:\n",
    "            dataframe[\"sales_ewm_alpha_\" + str(alpha).replace(\".\", \"\") + \"_lag_\" + str(lag)] = dataframe.groupby([\"store\", \"item\"])[\"sales\"].transform(lambda x: x.shift(lag).ewm(alpha=alpha).mean())\n",
    "    return dataframe"
   ]
  },
  {
   "cell_type": "code",
   "execution_count": 31,
   "id": "5a1eeb49",
   "metadata": {
    "execution": {
     "iopub.execute_input": "2024-07-02T23:34:31.438040Z",
     "iopub.status.busy": "2024-07-02T23:34:31.437588Z",
     "iopub.status.idle": "2024-07-02T23:34:31.444041Z",
     "shell.execute_reply": "2024-07-02T23:34:31.442594Z"
    },
    "papermill": {
     "duration": 0.040886,
     "end_time": "2024-07-02T23:34:31.446759",
     "exception": false,
     "start_time": "2024-07-02T23:34:31.405873",
     "status": "completed"
    },
    "tags": []
   },
   "outputs": [],
   "source": [
    "alphas = [0.95, 0.9, 0.8, 0.7, 0.5]\n",
    "lags = [91, 98, 105, 112, 180, 270, 365, 546, 728]"
   ]
  },
  {
   "cell_type": "code",
   "execution_count": 32,
   "id": "c4f8fde1",
   "metadata": {
    "execution": {
     "iopub.execute_input": "2024-07-02T23:34:31.507506Z",
     "iopub.status.busy": "2024-07-02T23:34:31.507097Z",
     "iopub.status.idle": "2024-07-02T23:34:44.799494Z",
     "shell.execute_reply": "2024-07-02T23:34:44.798237Z"
    },
    "papermill": {
     "duration": 13.326523,
     "end_time": "2024-07-02T23:34:44.802626",
     "exception": false,
     "start_time": "2024-07-02T23:34:31.476103",
     "status": "completed"
    },
    "tags": []
   },
   "outputs": [],
   "source": [
    "df = ewm_features(df, alphas, lags)"
   ]
  },
  {
   "cell_type": "code",
   "execution_count": 33,
   "id": "01336e8b",
   "metadata": {
    "execution": {
     "iopub.execute_input": "2024-07-02T23:34:44.865055Z",
     "iopub.status.busy": "2024-07-02T23:34:44.864629Z",
     "iopub.status.idle": "2024-07-02T23:34:44.927422Z",
     "shell.execute_reply": "2024-07-02T23:34:44.926128Z"
    },
    "papermill": {
     "duration": 0.09702,
     "end_time": "2024-07-02T23:34:44.930232",
     "exception": false,
     "start_time": "2024-07-02T23:34:44.833212",
     "status": "completed"
    },
    "tags": []
   },
   "outputs": [
    {
     "data": {
      "text/html": [
       "<div>\n",
       "<style scoped>\n",
       "    .dataframe tbody tr th:only-of-type {\n",
       "        vertical-align: middle;\n",
       "    }\n",
       "\n",
       "    .dataframe tbody tr th {\n",
       "        vertical-align: top;\n",
       "    }\n",
       "\n",
       "    .dataframe thead th {\n",
       "        text-align: right;\n",
       "    }\n",
       "</style>\n",
       "<table border=\"1\" class=\"dataframe\">\n",
       "  <thead>\n",
       "    <tr style=\"text-align: right;\">\n",
       "      <th></th>\n",
       "      <th>date</th>\n",
       "      <th>store</th>\n",
       "      <th>item</th>\n",
       "      <th>sales</th>\n",
       "      <th>id</th>\n",
       "      <th>month</th>\n",
       "      <th>day_of_month</th>\n",
       "      <th>day_of_year</th>\n",
       "      <th>day_of_week</th>\n",
       "      <th>week_of_year</th>\n",
       "      <th>year</th>\n",
       "      <th>is_weeknd</th>\n",
       "      <th>is_month_start</th>\n",
       "      <th>is_mont_end</th>\n",
       "      <th>sales_lag_91</th>\n",
       "      <th>sales_lag_98</th>\n",
       "      <th>sales_lag_105</th>\n",
       "      <th>sales_lag_112</th>\n",
       "      <th>sales_lag_119</th>\n",
       "      <th>sales_lag_126</th>\n",
       "      <th>sales_lag_182</th>\n",
       "      <th>sales_lag_364</th>\n",
       "      <th>sales_lag_526</th>\n",
       "      <th>sales_lag_728</th>\n",
       "      <th>sales_roll_mean_365</th>\n",
       "      <th>sales_roll_mean_546</th>\n",
       "      <th>sales_ewm_alpha_095_lag_91</th>\n",
       "      <th>sales_ewm_alpha_095_lag_98</th>\n",
       "      <th>sales_ewm_alpha_095_lag_105</th>\n",
       "      <th>sales_ewm_alpha_095_lag_112</th>\n",
       "      <th>sales_ewm_alpha_095_lag_180</th>\n",
       "      <th>sales_ewm_alpha_095_lag_270</th>\n",
       "      <th>sales_ewm_alpha_095_lag_365</th>\n",
       "      <th>sales_ewm_alpha_095_lag_546</th>\n",
       "      <th>sales_ewm_alpha_095_lag_728</th>\n",
       "      <th>sales_ewm_alpha_09_lag_91</th>\n",
       "      <th>sales_ewm_alpha_09_lag_98</th>\n",
       "      <th>sales_ewm_alpha_09_lag_105</th>\n",
       "      <th>sales_ewm_alpha_09_lag_112</th>\n",
       "      <th>sales_ewm_alpha_09_lag_180</th>\n",
       "      <th>sales_ewm_alpha_09_lag_270</th>\n",
       "      <th>sales_ewm_alpha_09_lag_365</th>\n",
       "      <th>sales_ewm_alpha_09_lag_546</th>\n",
       "      <th>sales_ewm_alpha_09_lag_728</th>\n",
       "      <th>sales_ewm_alpha_08_lag_91</th>\n",
       "      <th>sales_ewm_alpha_08_lag_98</th>\n",
       "      <th>sales_ewm_alpha_08_lag_105</th>\n",
       "      <th>sales_ewm_alpha_08_lag_112</th>\n",
       "      <th>sales_ewm_alpha_08_lag_180</th>\n",
       "      <th>sales_ewm_alpha_08_lag_270</th>\n",
       "      <th>sales_ewm_alpha_08_lag_365</th>\n",
       "      <th>sales_ewm_alpha_08_lag_546</th>\n",
       "      <th>sales_ewm_alpha_08_lag_728</th>\n",
       "      <th>sales_ewm_alpha_07_lag_91</th>\n",
       "      <th>sales_ewm_alpha_07_lag_98</th>\n",
       "      <th>sales_ewm_alpha_07_lag_105</th>\n",
       "      <th>sales_ewm_alpha_07_lag_112</th>\n",
       "      <th>sales_ewm_alpha_07_lag_180</th>\n",
       "      <th>sales_ewm_alpha_07_lag_270</th>\n",
       "      <th>sales_ewm_alpha_07_lag_365</th>\n",
       "      <th>sales_ewm_alpha_07_lag_546</th>\n",
       "      <th>sales_ewm_alpha_07_lag_728</th>\n",
       "      <th>sales_ewm_alpha_05_lag_91</th>\n",
       "      <th>sales_ewm_alpha_05_lag_98</th>\n",
       "      <th>sales_ewm_alpha_05_lag_105</th>\n",
       "      <th>sales_ewm_alpha_05_lag_112</th>\n",
       "      <th>sales_ewm_alpha_05_lag_180</th>\n",
       "      <th>sales_ewm_alpha_05_lag_270</th>\n",
       "      <th>sales_ewm_alpha_05_lag_365</th>\n",
       "      <th>sales_ewm_alpha_05_lag_546</th>\n",
       "      <th>sales_ewm_alpha_05_lag_728</th>\n",
       "    </tr>\n",
       "  </thead>\n",
       "  <tbody>\n",
       "    <tr>\n",
       "      <th>44997</th>\n",
       "      <td>2018-03-29</td>\n",
       "      <td>10</td>\n",
       "      <td>50</td>\n",
       "      <td>NaN</td>\n",
       "      <td>44997.0</td>\n",
       "      <td>3</td>\n",
       "      <td>29</td>\n",
       "      <td>88</td>\n",
       "      <td>3</td>\n",
       "      <td>13</td>\n",
       "      <td>2018</td>\n",
       "      <td>0</td>\n",
       "      <td>0</td>\n",
       "      <td>0</td>\n",
       "      <td>58.564291</td>\n",
       "      <td>62.571814</td>\n",
       "      <td>75.677856</td>\n",
       "      <td>67.231807</td>\n",
       "      <td>75.187692</td>\n",
       "      <td>85.852864</td>\n",
       "      <td>81.781517</td>\n",
       "      <td>66.896663</td>\n",
       "      <td>79.738691</td>\n",
       "      <td>74.188486</td>\n",
       "      <td>85.037868</td>\n",
       "      <td>87.248059</td>\n",
       "      <td>59.146404</td>\n",
       "      <td>62.407571</td>\n",
       "      <td>71.748469</td>\n",
       "      <td>65.718373</td>\n",
       "      <td>102.329739</td>\n",
       "      <td>119.933554</td>\n",
       "      <td>72.366861</td>\n",
       "      <td>98.086544</td>\n",
       "      <td>74.659949</td>\n",
       "      <td>59.192444</td>\n",
       "      <td>61.831980</td>\n",
       "      <td>71.488498</td>\n",
       "      <td>65.467858</td>\n",
       "      <td>101.617776</td>\n",
       "      <td>119.836822</td>\n",
       "      <td>71.774733</td>\n",
       "      <td>97.225616</td>\n",
       "      <td>74.331155</td>\n",
       "      <td>59.038218</td>\n",
       "      <td>60.755186</td>\n",
       "      <td>70.919847</td>\n",
       "      <td>65.034463</td>\n",
       "      <td>100.059553</td>\n",
       "      <td>119.548135</td>\n",
       "      <td>70.754382</td>\n",
       "      <td>95.574462</td>\n",
       "      <td>73.673543</td>\n",
       "      <td>58.678250</td>\n",
       "      <td>59.841881</td>\n",
       "      <td>70.268531</td>\n",
       "      <td>64.662974</td>\n",
       "      <td>98.304585</td>\n",
       "      <td>119.074969</td>\n",
       "      <td>70.008132</td>\n",
       "      <td>93.952357</td>\n",
       "      <td>73.000522</td>\n",
       "      <td>58.077439</td>\n",
       "      <td>58.912176</td>\n",
       "      <td>68.758467</td>\n",
       "      <td>64.083768</td>\n",
       "      <td>94.207172</td>\n",
       "      <td>117.009078</td>\n",
       "      <td>69.433740</td>\n",
       "      <td>90.872253</td>\n",
       "      <td>71.733478</td>\n",
       "    </tr>\n",
       "    <tr>\n",
       "      <th>44998</th>\n",
       "      <td>2018-03-30</td>\n",
       "      <td>10</td>\n",
       "      <td>50</td>\n",
       "      <td>NaN</td>\n",
       "      <td>44998.0</td>\n",
       "      <td>3</td>\n",
       "      <td>30</td>\n",
       "      <td>89</td>\n",
       "      <td>4</td>\n",
       "      <td>13</td>\n",
       "      <td>2018</td>\n",
       "      <td>1</td>\n",
       "      <td>0</td>\n",
       "      <td>0</td>\n",
       "      <td>76.028190</td>\n",
       "      <td>73.187882</td>\n",
       "      <td>72.421306</td>\n",
       "      <td>65.213870</td>\n",
       "      <td>67.189873</td>\n",
       "      <td>84.517664</td>\n",
       "      <td>90.749780</td>\n",
       "      <td>69.015232</td>\n",
       "      <td>88.949852</td>\n",
       "      <td>80.380830</td>\n",
       "      <td>90.014977</td>\n",
       "      <td>85.824887</td>\n",
       "      <td>73.257320</td>\n",
       "      <td>74.370379</td>\n",
       "      <td>71.987423</td>\n",
       "      <td>66.935919</td>\n",
       "      <td>99.166487</td>\n",
       "      <td>100.046678</td>\n",
       "      <td>68.218343</td>\n",
       "      <td>79.954327</td>\n",
       "      <td>82.582997</td>\n",
       "      <td>72.519244</td>\n",
       "      <td>73.683198</td>\n",
       "      <td>71.948850</td>\n",
       "      <td>66.846786</td>\n",
       "      <td>99.261778</td>\n",
       "      <td>101.083682</td>\n",
       "      <td>68.377473</td>\n",
       "      <td>80.822562</td>\n",
       "      <td>82.133115</td>\n",
       "      <td>71.007644</td>\n",
       "      <td>72.151037</td>\n",
       "      <td>71.783969</td>\n",
       "      <td>66.606893</td>\n",
       "      <td>99.211911</td>\n",
       "      <td>103.109627</td>\n",
       "      <td>68.550876</td>\n",
       "      <td>82.314892</td>\n",
       "      <td>81.134709</td>\n",
       "      <td>69.403475</td>\n",
       "      <td>70.452564</td>\n",
       "      <td>71.480559</td>\n",
       "      <td>66.298892</td>\n",
       "      <td>98.791375</td>\n",
       "      <td>105.022491</td>\n",
       "      <td>68.602440</td>\n",
       "      <td>83.485707</td>\n",
       "      <td>80.000156</td>\n",
       "      <td>66.038719</td>\n",
       "      <td>66.956088</td>\n",
       "      <td>70.379233</td>\n",
       "      <td>65.541884</td>\n",
       "      <td>96.603586</td>\n",
       "      <td>108.004539</td>\n",
       "      <td>68.716870</td>\n",
       "      <td>84.936127</td>\n",
       "      <td>77.366739</td>\n",
       "    </tr>\n",
       "    <tr>\n",
       "      <th>44999</th>\n",
       "      <td>2018-03-31</td>\n",
       "      <td>10</td>\n",
       "      <td>50</td>\n",
       "      <td>NaN</td>\n",
       "      <td>44999.0</td>\n",
       "      <td>3</td>\n",
       "      <td>31</td>\n",
       "      <td>90</td>\n",
       "      <td>5</td>\n",
       "      <td>13</td>\n",
       "      <td>2018</td>\n",
       "      <td>1</td>\n",
       "      <td>0</td>\n",
       "      <td>1</td>\n",
       "      <td>61.530804</td>\n",
       "      <td>70.544821</td>\n",
       "      <td>53.575863</td>\n",
       "      <td>68.839899</td>\n",
       "      <td>52.277718</td>\n",
       "      <td>77.137437</td>\n",
       "      <td>101.308311</td>\n",
       "      <td>100.434310</td>\n",
       "      <td>80.124868</td>\n",
       "      <td>83.242616</td>\n",
       "      <td>89.132563</td>\n",
       "      <td>84.996759</td>\n",
       "      <td>62.562866</td>\n",
       "      <td>70.218519</td>\n",
       "      <td>52.999371</td>\n",
       "      <td>68.896796</td>\n",
       "      <td>72.408324</td>\n",
       "      <td>98.102334</td>\n",
       "      <td>68.960917</td>\n",
       "      <td>96.147716</td>\n",
       "      <td>82.029150</td>\n",
       "      <td>63.051924</td>\n",
       "      <td>70.368320</td>\n",
       "      <td>53.994885</td>\n",
       "      <td>68.784679</td>\n",
       "      <td>73.826178</td>\n",
       "      <td>98.308368</td>\n",
       "      <td>68.937747</td>\n",
       "      <td>95.382256</td>\n",
       "      <td>82.013312</td>\n",
       "      <td>63.801529</td>\n",
       "      <td>70.430207</td>\n",
       "      <td>55.956794</td>\n",
       "      <td>68.521379</td>\n",
       "      <td>76.642382</td>\n",
       "      <td>99.021925</td>\n",
       "      <td>68.910175</td>\n",
       "      <td>94.062978</td>\n",
       "      <td>81.826942</td>\n",
       "      <td>64.221042</td>\n",
       "      <td>70.135769</td>\n",
       "      <td>57.844168</td>\n",
       "      <td>68.189668</td>\n",
       "      <td>79.337413</td>\n",
       "      <td>100.106747</td>\n",
       "      <td>68.880732</td>\n",
       "      <td>92.945712</td>\n",
       "      <td>81.400047</td>\n",
       "      <td>64.019360</td>\n",
       "      <td>68.478044</td>\n",
       "      <td>61.189617</td>\n",
       "      <td>67.270942</td>\n",
       "      <td>83.801793</td>\n",
       "      <td>103.002269</td>\n",
       "      <td>68.858435</td>\n",
       "      <td>90.968063</td>\n",
       "      <td>79.683369</td>\n",
       "    </tr>\n",
       "  </tbody>\n",
       "</table>\n",
       "</div>"
      ],
      "text/plain": [
       "            date  store  item  sales       id  month  day_of_month  day_of_year  day_of_week  week_of_year  year  is_weeknd  is_month_start  is_mont_end  sales_lag_91  sales_lag_98  sales_lag_105  sales_lag_112  sales_lag_119  sales_lag_126  sales_lag_182  sales_lag_364  sales_lag_526  sales_lag_728  sales_roll_mean_365  sales_roll_mean_546  sales_ewm_alpha_095_lag_91  sales_ewm_alpha_095_lag_98  sales_ewm_alpha_095_lag_105  sales_ewm_alpha_095_lag_112  sales_ewm_alpha_095_lag_180  \\\n",
       "44997 2018-03-29     10    50    NaN  44997.0      3            29           88            3            13  2018          0               0            0     58.564291     62.571814      75.677856      67.231807      75.187692      85.852864      81.781517      66.896663      79.738691      74.188486            85.037868            87.248059                   59.146404                   62.407571                    71.748469                    65.718373                   102.329739   \n",
       "44998 2018-03-30     10    50    NaN  44998.0      3            30           89            4            13  2018          1               0            0     76.028190     73.187882      72.421306      65.213870      67.189873      84.517664      90.749780      69.015232      88.949852      80.380830            90.014977            85.824887                   73.257320                   74.370379                    71.987423                    66.935919                    99.166487   \n",
       "44999 2018-03-31     10    50    NaN  44999.0      3            31           90            5            13  2018          1               0            1     61.530804     70.544821      53.575863      68.839899      52.277718      77.137437     101.308311     100.434310      80.124868      83.242616            89.132563            84.996759                   62.562866                   70.218519                    52.999371                    68.896796                    72.408324   \n",
       "\n",
       "       sales_ewm_alpha_095_lag_270  sales_ewm_alpha_095_lag_365  sales_ewm_alpha_095_lag_546  sales_ewm_alpha_095_lag_728  sales_ewm_alpha_09_lag_91  sales_ewm_alpha_09_lag_98  sales_ewm_alpha_09_lag_105  sales_ewm_alpha_09_lag_112  sales_ewm_alpha_09_lag_180  sales_ewm_alpha_09_lag_270  sales_ewm_alpha_09_lag_365  sales_ewm_alpha_09_lag_546  sales_ewm_alpha_09_lag_728  sales_ewm_alpha_08_lag_91  sales_ewm_alpha_08_lag_98  sales_ewm_alpha_08_lag_105  sales_ewm_alpha_08_lag_112  \\\n",
       "44997                   119.933554                    72.366861                    98.086544                    74.659949                  59.192444                  61.831980                   71.488498                   65.467858                  101.617776                  119.836822                   71.774733                   97.225616                   74.331155                  59.038218                  60.755186                   70.919847                   65.034463   \n",
       "44998                   100.046678                    68.218343                    79.954327                    82.582997                  72.519244                  73.683198                   71.948850                   66.846786                   99.261778                  101.083682                   68.377473                   80.822562                   82.133115                  71.007644                  72.151037                   71.783969                   66.606893   \n",
       "44999                    98.102334                    68.960917                    96.147716                    82.029150                  63.051924                  70.368320                   53.994885                   68.784679                   73.826178                   98.308368                   68.937747                   95.382256                   82.013312                  63.801529                  70.430207                   55.956794                   68.521379   \n",
       "\n",
       "       sales_ewm_alpha_08_lag_180  sales_ewm_alpha_08_lag_270  sales_ewm_alpha_08_lag_365  sales_ewm_alpha_08_lag_546  sales_ewm_alpha_08_lag_728  sales_ewm_alpha_07_lag_91  sales_ewm_alpha_07_lag_98  sales_ewm_alpha_07_lag_105  sales_ewm_alpha_07_lag_112  sales_ewm_alpha_07_lag_180  sales_ewm_alpha_07_lag_270  sales_ewm_alpha_07_lag_365  sales_ewm_alpha_07_lag_546  sales_ewm_alpha_07_lag_728  sales_ewm_alpha_05_lag_91  sales_ewm_alpha_05_lag_98  sales_ewm_alpha_05_lag_105  \\\n",
       "44997                  100.059553                  119.548135                   70.754382                   95.574462                   73.673543                  58.678250                  59.841881                   70.268531                   64.662974                   98.304585                  119.074969                   70.008132                   93.952357                   73.000522                  58.077439                  58.912176                   68.758467   \n",
       "44998                   99.211911                  103.109627                   68.550876                   82.314892                   81.134709                  69.403475                  70.452564                   71.480559                   66.298892                   98.791375                  105.022491                   68.602440                   83.485707                   80.000156                  66.038719                  66.956088                   70.379233   \n",
       "44999                   76.642382                   99.021925                   68.910175                   94.062978                   81.826942                  64.221042                  70.135769                   57.844168                   68.189668                   79.337413                  100.106747                   68.880732                   92.945712                   81.400047                  64.019360                  68.478044                   61.189617   \n",
       "\n",
       "       sales_ewm_alpha_05_lag_112  sales_ewm_alpha_05_lag_180  sales_ewm_alpha_05_lag_270  sales_ewm_alpha_05_lag_365  sales_ewm_alpha_05_lag_546  sales_ewm_alpha_05_lag_728  \n",
       "44997                   64.083768                   94.207172                  117.009078                   69.433740                   90.872253                   71.733478  \n",
       "44998                   65.541884                   96.603586                  108.004539                   68.716870                   84.936127                   77.366739  \n",
       "44999                   67.270942                   83.801793                  103.002269                   68.858435                   90.968063                   79.683369  "
      ]
     },
     "metadata": {},
     "output_type": "display_data"
    }
   ],
   "source": [
    "display(df.tail(3))"
   ]
  },
  {
   "cell_type": "markdown",
   "id": "ca1b0911",
   "metadata": {
    "papermill": {
     "duration": 0.030372,
     "end_time": "2024-07-02T23:34:44.990950",
     "exception": false,
     "start_time": "2024-07-02T23:34:44.960578",
     "status": "completed"
    },
    "tags": []
   },
   "source": [
    "## One-Hot Encoding"
   ]
  },
  {
   "cell_type": "code",
   "execution_count": 34,
   "id": "3132fba9",
   "metadata": {
    "execution": {
     "iopub.execute_input": "2024-07-02T23:34:45.054180Z",
     "iopub.status.busy": "2024-07-02T23:34:45.053744Z",
     "iopub.status.idle": "2024-07-02T23:34:46.124459Z",
     "shell.execute_reply": "2024-07-02T23:34:46.123149Z"
    },
    "papermill": {
     "duration": 1.106052,
     "end_time": "2024-07-02T23:34:46.127444",
     "exception": false,
     "start_time": "2024-07-02T23:34:45.021392",
     "status": "completed"
    },
    "tags": []
   },
   "outputs": [],
   "source": [
    "df = pd.get_dummies(df, columns=[\"store\", \"item\", \"day_of_week\", \"month\"], drop_first=True)"
   ]
  },
  {
   "cell_type": "markdown",
   "id": "2fd287d6",
   "metadata": {
    "papermill": {
     "duration": 0.030977,
     "end_time": "2024-07-02T23:34:46.192726",
     "exception": false,
     "start_time": "2024-07-02T23:34:46.161749",
     "status": "completed"
    },
    "tags": []
   },
   "source": [
    "## Log of Target Variable (Bağımlı Değişkenin Logaritması)"
   ]
  },
  {
   "cell_type": "code",
   "execution_count": 35,
   "id": "ade6a6fd",
   "metadata": {
    "execution": {
     "iopub.execute_input": "2024-07-02T23:34:46.255198Z",
     "iopub.status.busy": "2024-07-02T23:34:46.254747Z",
     "iopub.status.idle": "2024-07-02T23:34:46.279468Z",
     "shell.execute_reply": "2024-07-02T23:34:46.278146Z"
    },
    "papermill": {
     "duration": 0.059326,
     "end_time": "2024-07-02T23:34:46.282418",
     "exception": false,
     "start_time": "2024-07-02T23:34:46.223092",
     "status": "completed"
    },
    "tags": []
   },
   "outputs": [],
   "source": [
    "df[\"sales\"] = np.log1p(df[\"sales\"].values)"
   ]
  },
  {
   "cell_type": "markdown",
   "id": "b3acd4e3",
   "metadata": {
    "papermill": {
     "duration": 0.02996,
     "end_time": "2024-07-02T23:34:46.344323",
     "exception": false,
     "start_time": "2024-07-02T23:34:46.314363",
     "status": "completed"
    },
    "tags": []
   },
   "source": [
    "# Modelling"
   ]
  },
  {
   "cell_type": "markdown",
   "id": "bff7ac1a",
   "metadata": {
    "papermill": {
     "duration": 0.030718,
     "end_time": "2024-07-02T23:34:46.405690",
     "exception": false,
     "start_time": "2024-07-02T23:34:46.374972",
     "status": "completed"
    },
    "tags": []
   },
   "source": [
    "## Custom Cost Function (Özelleştirilmiş Maliyet Fonksiyonu)\n",
    "\n",
    "<p>Burada hata metriği olarak, başarıyı değerlendirme metriği olan MAE (mean absolute error) metriğinin bir türü olarak kabul edilebilecek MAPE fonksiyonunun düzeltilmiş bir versiyonu olan SMAPE maliyet fonksiyonunu kullanacağız.</p>"
   ]
  },
  {
   "cell_type": "code",
   "execution_count": 36,
   "id": "2a6fadaa",
   "metadata": {
    "execution": {
     "iopub.execute_input": "2024-07-02T23:34:46.468692Z",
     "iopub.status.busy": "2024-07-02T23:34:46.468228Z",
     "iopub.status.idle": "2024-07-02T23:34:46.475852Z",
     "shell.execute_reply": "2024-07-02T23:34:46.474561Z"
    },
    "papermill": {
     "duration": 0.042114,
     "end_time": "2024-07-02T23:34:46.478482",
     "exception": false,
     "start_time": "2024-07-02T23:34:46.436368",
     "status": "completed"
    },
    "tags": []
   },
   "outputs": [],
   "source": [
    "def smape(preds, target):\n",
    "    n = len(preds)\n",
    "    masked_arr = ~((preds==0) & (target==0))\n",
    "    preds, target = preds[masked_arr], target[masked_arr]\n",
    "    num = np.abs(preds - target)\n",
    "    denom = np.abs(preds) + np.abs(target)\n",
    "    smape_val = (200 * np.sum(num / denom)) / n\n",
    "    return smape_val"
   ]
  },
  {
   "cell_type": "code",
   "execution_count": 37,
   "id": "b6caad17",
   "metadata": {
    "execution": {
     "iopub.execute_input": "2024-07-02T23:34:46.541688Z",
     "iopub.status.busy": "2024-07-02T23:34:46.541210Z",
     "iopub.status.idle": "2024-07-02T23:34:46.548039Z",
     "shell.execute_reply": "2024-07-02T23:34:46.546792Z"
    },
    "papermill": {
     "duration": 0.040759,
     "end_time": "2024-07-02T23:34:46.550503",
     "exception": false,
     "start_time": "2024-07-02T23:34:46.509744",
     "status": "completed"
    },
    "tags": []
   },
   "outputs": [],
   "source": [
    "def lgbm_smape(preds, train_data):\n",
    "    labels = train_data.get_label()\n",
    "    smape_val = smape(np.expm1(preds), np.expm1(labels))\n",
    "    return \"SMAPE\", smape_val, False"
   ]
  },
  {
   "cell_type": "markdown",
   "id": "adcefaed",
   "metadata": {
    "papermill": {
     "duration": 0.030694,
     "end_time": "2024-07-02T23:34:46.611136",
     "exception": false,
     "start_time": "2024-07-02T23:34:46.580442",
     "status": "completed"
    },
    "tags": []
   },
   "source": [
    "## Creation of Validation Sets (Doğrulama Setlerinin Oluşturulması)"
   ]
  },
  {
   "cell_type": "code",
   "execution_count": 38,
   "id": "2480e52d",
   "metadata": {
    "execution": {
     "iopub.execute_input": "2024-07-02T23:34:46.673694Z",
     "iopub.status.busy": "2024-07-02T23:34:46.673203Z",
     "iopub.status.idle": "2024-07-02T23:34:46.882574Z",
     "shell.execute_reply": "2024-07-02T23:34:46.881476Z"
    },
    "papermill": {
     "duration": 0.244189,
     "end_time": "2024-07-02T23:34:46.886039",
     "exception": false,
     "start_time": "2024-07-02T23:34:46.641850",
     "status": "completed"
    },
    "tags": []
   },
   "outputs": [],
   "source": [
    "train = df.loc[(df[\"date\"] < \"2017-01-01\"), :]\n",
    "val = df.loc[(df[\"date\"] >= \"2017-01-01\") & (df[\"date\"] < \"2017-04-01\"), :]"
   ]
  },
  {
   "cell_type": "markdown",
   "id": "9207abc2",
   "metadata": {
    "papermill": {
     "duration": 0.029954,
     "end_time": "2024-07-02T23:34:46.947522",
     "exception": false,
     "start_time": "2024-07-02T23:34:46.917568",
     "status": "completed"
    },
    "tags": []
   },
   "source": [
    "## Creation of dependent and independent variables"
   ]
  },
  {
   "cell_type": "code",
   "execution_count": 39,
   "id": "07f4960c",
   "metadata": {
    "execution": {
     "iopub.execute_input": "2024-07-02T23:34:47.011758Z",
     "iopub.status.busy": "2024-07-02T23:34:47.011288Z",
     "iopub.status.idle": "2024-07-02T23:34:47.017732Z",
     "shell.execute_reply": "2024-07-02T23:34:47.016532Z"
    },
    "papermill": {
     "duration": 0.042416,
     "end_time": "2024-07-02T23:34:47.020247",
     "exception": false,
     "start_time": "2024-07-02T23:34:46.977831",
     "status": "completed"
    },
    "tags": []
   },
   "outputs": [],
   "source": [
    "cols = [col for col in train.columns if col not in [\"date\", \"id\", \"sales\", \"year\"]]"
   ]
  },
  {
   "cell_type": "markdown",
   "id": "4076f29b",
   "metadata": {
    "papermill": {
     "duration": 0.030106,
     "end_time": "2024-07-02T23:34:47.080683",
     "exception": false,
     "start_time": "2024-07-02T23:34:47.050577",
     "status": "completed"
    },
    "tags": []
   },
   "source": [
    "### Train Set"
   ]
  },
  {
   "cell_type": "code",
   "execution_count": 40,
   "id": "2c81a061",
   "metadata": {
    "execution": {
     "iopub.execute_input": "2024-07-02T23:34:47.145098Z",
     "iopub.status.busy": "2024-07-02T23:34:47.144636Z",
     "iopub.status.idle": "2024-07-02T23:34:47.150675Z",
     "shell.execute_reply": "2024-07-02T23:34:47.149509Z"
    },
    "papermill": {
     "duration": 0.042327,
     "end_time": "2024-07-02T23:34:47.153638",
     "exception": false,
     "start_time": "2024-07-02T23:34:47.111311",
     "status": "completed"
    },
    "tags": []
   },
   "outputs": [],
   "source": [
    "Y_train = train[\"sales\"]"
   ]
  },
  {
   "cell_type": "code",
   "execution_count": 41,
   "id": "13dffd3b",
   "metadata": {
    "execution": {
     "iopub.execute_input": "2024-07-02T23:34:47.217465Z",
     "iopub.status.busy": "2024-07-02T23:34:47.216884Z",
     "iopub.status.idle": "2024-07-02T23:34:47.334444Z",
     "shell.execute_reply": "2024-07-02T23:34:47.333161Z"
    },
    "papermill": {
     "duration": 0.152384,
     "end_time": "2024-07-02T23:34:47.337555",
     "exception": false,
     "start_time": "2024-07-02T23:34:47.185171",
     "status": "completed"
    },
    "tags": []
   },
   "outputs": [],
   "source": [
    "X_train = train[cols]"
   ]
  },
  {
   "cell_type": "markdown",
   "id": "718cc319",
   "metadata": {
    "papermill": {
     "duration": 0.029697,
     "end_time": "2024-07-02T23:34:47.398378",
     "exception": false,
     "start_time": "2024-07-02T23:34:47.368681",
     "status": "completed"
    },
    "tags": []
   },
   "source": [
    "### Validation Set"
   ]
  },
  {
   "cell_type": "code",
   "execution_count": 42,
   "id": "95baed98",
   "metadata": {
    "execution": {
     "iopub.execute_input": "2024-07-02T23:34:47.460920Z",
     "iopub.status.busy": "2024-07-02T23:34:47.459861Z",
     "iopub.status.idle": "2024-07-02T23:34:47.465346Z",
     "shell.execute_reply": "2024-07-02T23:34:47.464238Z"
    },
    "papermill": {
     "duration": 0.039296,
     "end_time": "2024-07-02T23:34:47.467852",
     "exception": false,
     "start_time": "2024-07-02T23:34:47.428556",
     "status": "completed"
    },
    "tags": []
   },
   "outputs": [],
   "source": [
    "Y_val = val[\"sales\"]"
   ]
  },
  {
   "cell_type": "code",
   "execution_count": 43,
   "id": "f87a89c0",
   "metadata": {
    "execution": {
     "iopub.execute_input": "2024-07-02T23:34:47.531091Z",
     "iopub.status.busy": "2024-07-02T23:34:47.530616Z",
     "iopub.status.idle": "2024-07-02T23:34:47.545450Z",
     "shell.execute_reply": "2024-07-02T23:34:47.544264Z"
    },
    "papermill": {
     "duration": 0.049882,
     "end_time": "2024-07-02T23:34:47.548547",
     "exception": false,
     "start_time": "2024-07-02T23:34:47.498665",
     "status": "completed"
    },
    "tags": []
   },
   "outputs": [],
   "source": [
    "X_val = val[cols]"
   ]
  },
  {
   "cell_type": "code",
   "execution_count": 44,
   "id": "aee4ff60",
   "metadata": {
    "execution": {
     "iopub.execute_input": "2024-07-02T23:34:47.611110Z",
     "iopub.status.busy": "2024-07-02T23:34:47.610674Z",
     "iopub.status.idle": "2024-07-02T23:34:47.619021Z",
     "shell.execute_reply": "2024-07-02T23:34:47.617849Z"
    },
    "papermill": {
     "duration": 0.042628,
     "end_time": "2024-07-02T23:34:47.621622",
     "exception": false,
     "start_time": "2024-07-02T23:34:47.578994",
     "status": "completed"
    },
    "tags": []
   },
   "outputs": [
    {
     "data": {
      "text/plain": [
       "((730500, 138), (730500,), (45000, 138), (45000,))"
      ]
     },
     "execution_count": 44,
     "metadata": {},
     "output_type": "execute_result"
    }
   ],
   "source": [
    "X_train.shape, Y_train.shape, X_val.shape, Y_val.shape"
   ]
  },
  {
   "cell_type": "markdown",
   "id": "cb16bfd7",
   "metadata": {
    "papermill": {
     "duration": 0.029858,
     "end_time": "2024-07-02T23:34:47.681928",
     "exception": false,
     "start_time": "2024-07-02T23:34:47.652070",
     "status": "completed"
    },
    "tags": []
   },
   "source": [
    "## Time Series Model with LightGBM (LightGBM ile Zaman Serisi Modelleme)\n",
    "\n",
    "<p>LightGBM, ağaca dayalı bir makine öğrenmesi yöntemidir. Son yıllarda kaggle ve benzeri platformlarda en başarılı tahminleri üreten makine öğrenmesi yöntemlerinden birisidir. Ağaca dayalı yöntemlerin en iyilerinden birisidir. Birçok sınıflandırma, regresyon ve hatta zaman serisi problemlerinde bile oldukça başarılı çalışmaktadır.</p>"
   ]
  },
  {
   "cell_type": "code",
   "execution_count": 45,
   "id": "808ba89c",
   "metadata": {
    "execution": {
     "iopub.execute_input": "2024-07-02T23:34:47.744519Z",
     "iopub.status.busy": "2024-07-02T23:34:47.744073Z",
     "iopub.status.idle": "2024-07-02T23:34:48.135377Z",
     "shell.execute_reply": "2024-07-02T23:34:48.134208Z"
    },
    "papermill": {
     "duration": 0.426723,
     "end_time": "2024-07-02T23:34:48.139172",
     "exception": false,
     "start_time": "2024-07-02T23:34:47.712449",
     "status": "completed"
    },
    "tags": []
   },
   "outputs": [],
   "source": [
    "train = df.loc[~(df.sales.isna())]\n",
    "Y_train = train[\"sales\"]\n",
    "X_train = train[cols]"
   ]
  },
  {
   "cell_type": "code",
   "execution_count": 46,
   "id": "1e8bd428",
   "metadata": {
    "execution": {
     "iopub.execute_input": "2024-07-02T23:34:48.203771Z",
     "iopub.status.busy": "2024-07-02T23:34:48.202553Z",
     "iopub.status.idle": "2024-07-02T23:34:48.238222Z",
     "shell.execute_reply": "2024-07-02T23:34:48.237167Z"
    },
    "papermill": {
     "duration": 0.070867,
     "end_time": "2024-07-02T23:34:48.241285",
     "exception": false,
     "start_time": "2024-07-02T23:34:48.170418",
     "status": "completed"
    },
    "tags": []
   },
   "outputs": [],
   "source": [
    "test = df.loc[df.sales.isna()]\n",
    "X_test = test[cols]"
   ]
  },
  {
   "cell_type": "code",
   "execution_count": 47,
   "id": "7b36d5f6",
   "metadata": {
    "execution": {
     "iopub.execute_input": "2024-07-02T23:34:48.304961Z",
     "iopub.status.busy": "2024-07-02T23:34:48.304472Z",
     "iopub.status.idle": "2024-07-02T23:34:48.310562Z",
     "shell.execute_reply": "2024-07-02T23:34:48.309174Z"
    },
    "papermill": {
     "duration": 0.041555,
     "end_time": "2024-07-02T23:34:48.313159",
     "exception": false,
     "start_time": "2024-07-02T23:34:48.271604",
     "status": "completed"
    },
    "tags": []
   },
   "outputs": [],
   "source": [
    "lgbmtrain_all = lgb.Dataset(data=X_train, label=Y_train, feature_name=cols)"
   ]
  },
  {
   "cell_type": "code",
   "execution_count": 48,
   "id": "e2fc059e",
   "metadata": {
    "execution": {
     "iopub.execute_input": "2024-07-02T23:34:48.377953Z",
     "iopub.status.busy": "2024-07-02T23:34:48.377500Z",
     "iopub.status.idle": "2024-07-02T23:34:48.384356Z",
     "shell.execute_reply": "2024-07-02T23:34:48.383045Z"
    },
    "papermill": {
     "duration": 0.043037,
     "end_time": "2024-07-02T23:34:48.386993",
     "exception": false,
     "start_time": "2024-07-02T23:34:48.343956",
     "status": "completed"
    },
    "tags": []
   },
   "outputs": [],
   "source": [
    "lgbm_params = {\"num_leaves\": 10, # Bir ağaçtaki maksimum yaprak sayısı\n",
    "               \"learning_rate\": 0.02, # Öğrenme oranı\n",
    "               \"feature_fraction\": 0.8, # Her iterasyonda rastgele göz önünde bulundurulacak değişken (feature) sayısı\n",
    "               \"max_depth\": 5, # Maksimum derinlik\n",
    "               \"verbose\": 0, \n",
    "               \"num_boost_round\": 14091, # İterasyon sayısı\n",
    "               \"nthread\": -1}"
   ]
  },
  {
   "cell_type": "code",
   "execution_count": 49,
   "id": "934deb10",
   "metadata": {
    "execution": {
     "iopub.execute_input": "2024-07-02T23:34:48.450209Z",
     "iopub.status.busy": "2024-07-02T23:34:48.449708Z",
     "iopub.status.idle": "2024-07-02T23:56:15.429114Z",
     "shell.execute_reply": "2024-07-02T23:56:15.427801Z"
    },
    "papermill": {
     "duration": 1287.01509,
     "end_time": "2024-07-02T23:56:15.432807",
     "exception": false,
     "start_time": "2024-07-02T23:34:48.417717",
     "status": "completed"
    },
    "tags": []
   },
   "outputs": [],
   "source": [
    "final_model = lgb.train(lgbm_params, lgbmtrain_all, num_boost_round=14091)"
   ]
  },
  {
   "cell_type": "code",
   "execution_count": 50,
   "id": "e76437b9",
   "metadata": {
    "execution": {
     "iopub.execute_input": "2024-07-02T23:56:15.497613Z",
     "iopub.status.busy": "2024-07-02T23:56:15.497185Z",
     "iopub.status.idle": "2024-07-02T23:56:34.879967Z",
     "shell.execute_reply": "2024-07-02T23:56:34.878816Z"
    },
    "papermill": {
     "duration": 19.418021,
     "end_time": "2024-07-02T23:56:34.883249",
     "exception": false,
     "start_time": "2024-07-02T23:56:15.465228",
     "status": "completed"
    },
    "tags": []
   },
   "outputs": [],
   "source": [
    "y_preds_test = final_model.predict(X_test, num_iteration=14091)"
   ]
  },
  {
   "cell_type": "code",
   "execution_count": 51,
   "id": "8033383c",
   "metadata": {
    "execution": {
     "iopub.execute_input": "2024-07-02T23:56:34.946810Z",
     "iopub.status.busy": "2024-07-02T23:56:34.946359Z",
     "iopub.status.idle": "2024-07-02T23:56:34.951991Z",
     "shell.execute_reply": "2024-07-02T23:56:34.950886Z"
    },
    "papermill": {
     "duration": 0.040642,
     "end_time": "2024-07-02T23:56:34.954369",
     "exception": false,
     "start_time": "2024-07-02T23:56:34.913727",
     "status": "completed"
    },
    "tags": []
   },
   "outputs": [],
   "source": [
    "y_preds_test = np.expm1(y_preds_test)"
   ]
  },
  {
   "cell_type": "code",
   "execution_count": 52,
   "id": "af5fef75",
   "metadata": {
    "execution": {
     "iopub.execute_input": "2024-07-02T23:56:35.016567Z",
     "iopub.status.busy": "2024-07-02T23:56:35.016127Z",
     "iopub.status.idle": "2024-07-02T23:56:35.708277Z",
     "shell.execute_reply": "2024-07-02T23:56:35.707152Z"
    },
    "papermill": {
     "duration": 0.726573,
     "end_time": "2024-07-02T23:56:35.710979",
     "exception": false,
     "start_time": "2024-07-02T23:56:34.984406",
     "status": "completed"
    },
    "tags": []
   },
   "outputs": [
    {
     "data": {
      "image/png": "[encoded data removed]",
      "text/plain": [
       "<Figure size 640x480 with 1 Axes>"
      ]
     },
     "metadata": {},
     "output_type": "display_data"
    }
   ],
   "source": [
    "sns.histplot(y_preds_test, kde=True)\n",
    "plt.title(\"Tahminlerin Dağılımı\")\n",
    "plt.xlabel(\"Tahmin\")\n",
    "plt.ylabel(\"Frekans\")\n",
    "plt.show()"
   ]
  },
  {
   "cell_type": "markdown",
   "id": "fd4212f3",
   "metadata": {
    "papermill": {
     "duration": 0.031155,
     "end_time": "2024-07-02T23:56:35.773008",
     "exception": false,
     "start_time": "2024-07-02T23:56:35.741853",
     "status": "completed"
    },
    "tags": []
   },
   "source": [
    "# Visualization of Forecasts"
   ]
  },
  {
   "cell_type": "code",
   "execution_count": 53,
   "id": "4e64a88b",
   "metadata": {
    "execution": {
     "iopub.execute_input": "2024-07-02T23:56:35.839543Z",
     "iopub.status.busy": "2024-07-02T23:56:35.839097Z",
     "iopub.status.idle": "2024-07-02T23:56:36.234598Z",
     "shell.execute_reply": "2024-07-02T23:56:36.233273Z"
    },
    "papermill": {
     "duration": 0.430775,
     "end_time": "2024-07-02T23:56:36.237513",
     "exception": false,
     "start_time": "2024-07-02T23:56:35.806738",
     "status": "completed"
    },
    "tags": []
   },
   "outputs": [],
   "source": [
    "train_final = pd.read_csv(\"/kaggle/input/demand-forecasting-kernels-only/train.csv\")\n",
    "test_final = pd.read_csv(\"/kaggle/input/demand-forecasting-kernels-only/test.csv\")"
   ]
  },
  {
   "cell_type": "code",
   "execution_count": 54,
   "id": "9a473235",
   "metadata": {
    "execution": {
     "iopub.execute_input": "2024-07-02T23:56:36.302071Z",
     "iopub.status.busy": "2024-07-02T23:56:36.301602Z",
     "iopub.status.idle": "2024-07-02T23:56:36.330976Z",
     "shell.execute_reply": "2024-07-02T23:56:36.329699Z"
    },
    "papermill": {
     "duration": 0.064879,
     "end_time": "2024-07-02T23:56:36.333867",
     "exception": false,
     "start_time": "2024-07-02T23:56:36.268988",
     "status": "completed"
    },
    "tags": []
   },
   "outputs": [],
   "source": [
    "df = pd.concat([train_final, test_final], sort=False)"
   ]
  },
  {
   "cell_type": "code",
   "execution_count": 55,
   "id": "87d0ae2c",
   "metadata": {
    "execution": {
     "iopub.execute_input": "2024-07-02T23:56:36.398990Z",
     "iopub.status.busy": "2024-07-02T23:56:36.398531Z",
     "iopub.status.idle": "2024-07-02T23:56:36.955400Z",
     "shell.execute_reply": "2024-07-02T23:56:36.954222Z"
    },
    "papermill": {
     "duration": 0.593306,
     "end_time": "2024-07-02T23:56:36.958392",
     "exception": false,
     "start_time": "2024-07-02T23:56:36.365086",
     "status": "completed"
    },
    "tags": []
   },
   "outputs": [],
   "source": [
    "df.sort_values([\"store\", \"item\", \"date\"], inplace = True)\n",
    "\n",
    "train_final = df.loc[(df[\"date\"] < \"2018-01-01\"), :]\n",
    "test_final = df.loc[(df[\"date\"] >= \"2018-01-01\"), :]"
   ]
  },
  {
   "cell_type": "code",
   "execution_count": 56,
   "id": "1d384064",
   "metadata": {
    "execution": {
     "iopub.execute_input": "2024-07-02T23:56:37.022372Z",
     "iopub.status.busy": "2024-07-02T23:56:37.021951Z",
     "iopub.status.idle": "2024-07-02T23:56:37.029370Z",
     "shell.execute_reply": "2024-07-02T23:56:37.028013Z"
    },
    "papermill": {
     "duration": 0.042116,
     "end_time": "2024-07-02T23:56:37.031908",
     "exception": false,
     "start_time": "2024-07-02T23:56:36.989792",
     "status": "completed"
    },
    "tags": []
   },
   "outputs": [],
   "source": [
    "forecast = pd.DataFrame({\n",
    "    \"date\":test_final.date,\n",
    "    \"store\":test_final.store,\n",
    "    \"item\":test_final.item,\n",
    "    \"sales\":y_preds_test\n",
    "})"
   ]
  },
  {
   "cell_type": "code",
   "execution_count": 57,
   "id": "a0a3aed2",
   "metadata": {
    "execution": {
     "iopub.execute_input": "2024-07-02T23:56:37.098697Z",
     "iopub.status.busy": "2024-07-02T23:56:37.097667Z",
     "iopub.status.idle": "2024-07-02T23:56:37.347025Z",
     "shell.execute_reply": "2024-07-02T23:56:37.345902Z"
    },
    "papermill": {
     "duration": 0.284657,
     "end_time": "2024-07-02T23:56:37.350042",
     "exception": false,
     "start_time": "2024-07-02T23:56:37.065385",
     "status": "completed"
    },
    "tags": []
   },
   "outputs": [
    {
     "data": {
      "image/png": "[encoded data removed]",
      "text/plain": [
       "<Figure size 1200x400 with 1 Axes>"
      ]
     },
     "metadata": {},
     "output_type": "display_data"
    }
   ],
   "source": [
    "forecast[(forecast.store == 1) & (forecast.item == 1)].set_index(\"date\").sales.\\\n",
    "plot(color = \"orange\", figsize = (12,4), legend=True, label = \"Mağaza 1'deki Ürün 1'e ait Tahminler\")\n",
    "plt.xlabel(\"Tarih\")\n",
    "plt.ylabel(\"Satışlar\")\n",
    "plt.show()"
   ]
  },
  {
   "cell_type": "code",
   "execution_count": 58,
   "id": "b18565ee",
   "metadata": {
    "execution": {
     "iopub.execute_input": "2024-07-02T23:56:37.415525Z",
     "iopub.status.busy": "2024-07-02T23:56:37.415127Z",
     "iopub.status.idle": "2024-07-02T23:56:50.235549Z",
     "shell.execute_reply": "2024-07-02T23:56:50.234332Z"
    },
    "papermill": {
     "duration": 12.856652,
     "end_time": "2024-07-02T23:56:50.238506",
     "exception": false,
     "start_time": "2024-07-02T23:56:37.381854",
     "status": "completed"
    },
    "tags": []
   },
   "outputs": [
    {
     "data": {
      "image/png": "[encoded data removed]",
      "text/plain": [
       "<Figure size 1200x400 with 1 Axes>"
      ]
     },
     "metadata": {},
     "output_type": "display_data"
    }
   ],
   "source": [
    "# Verileri filtreleme ve indeksleme\n",
    "train_data = train_final[(train_final.store == 1) & (train_final.item == 1)].set_index(\"date\")\n",
    "forecast_data = forecast[(forecast.store == 1) & (forecast.item == 1)].set_index(\"date\")\n",
    "\n",
    "# Grafiği oluşturma\n",
    "plt.figure(figsize=(12, 4))\n",
    "sns.lineplot(data=train_data, x=train_data.index, y='sales', label=\"Mağaza 1'deki Ürün 1'e ait Satışlar\")\n",
    "sns.lineplot(data=forecast_data, x=forecast_data.index, y='sales', label=\"Mağaza 1'deki Ürün 1'e ait Tahminler\")\n",
    "\n",
    "# Başlık ve etiketleri ekleme\n",
    "plt.title(\"Mağaza 1'deki Ürün 1'e ait Satışlar ve Tahminler\")\n",
    "plt.xlabel(\"Tarih\")\n",
    "plt.ylabel(\"Satışlar\")\n",
    "plt.legend()\n",
    "plt.show()"
   ]
  },
  {
   "cell_type": "markdown",
   "id": "b7d9c2cd",
   "metadata": {
    "papermill": {
     "duration": 0.033756,
     "end_time": "2024-07-02T23:56:50.305530",
     "exception": false,
     "start_time": "2024-07-02T23:56:50.271774",
     "status": "completed"
    },
    "tags": []
   },
   "source": [
    "## Feature Importance (Değişken Önem Düzeyleri)"
   ]
  },
  {
   "cell_type": "code",
   "execution_count": 59,
   "id": "2d42a269",
   "metadata": {
    "execution": {
     "iopub.execute_input": "2024-07-02T23:56:50.373530Z",
     "iopub.status.busy": "2024-07-02T23:56:50.372800Z",
     "iopub.status.idle": "2024-07-02T23:56:50.381689Z",
     "shell.execute_reply": "2024-07-02T23:56:50.380504Z"
    },
    "papermill": {
     "duration": 0.045746,
     "end_time": "2024-07-02T23:56:50.384263",
     "exception": false,
     "start_time": "2024-07-02T23:56:50.338517",
     "status": "completed"
    },
    "tags": []
   },
   "outputs": [],
   "source": [
    "def plot_lgm_importances(model, plot=False, num=10):\n",
    "    gain = model.feature_importance(\"gain\")\n",
    "    feat_imp = pd.DataFrame({\"feature\": model.feature_name(), \n",
    "                             \"split\": model.feature_importance(\"split\"), \n",
    "                             \"gain\": 100* gain / gain.sum()}).sort_values(\"gain\", ascending=False)\n",
    "    \n",
    "    if plot:\n",
    "        plt.figure(figsize=(5,5))\n",
    "        sns.set(font_scale=1)\n",
    "        sns.barplot(x=\"gain\", y=\"feature\", data=feat_imp[0:num])\n",
    "        plt.title(\"feature\")\n",
    "        plt.tight_layout()\n",
    "        plt.show()\n",
    "    else:\n",
    "        print(feat_imp.head(num))"
   ]
  },
  {
   "cell_type": "code",
   "execution_count": 60,
   "id": "0d52fc95",
   "metadata": {
    "execution": {
     "iopub.execute_input": "2024-07-02T23:56:50.452834Z",
     "iopub.status.busy": "2024-07-02T23:56:50.452397Z",
     "iopub.status.idle": "2024-07-02T23:56:50.868184Z",
     "shell.execute_reply": "2024-07-02T23:56:50.866741Z"
    },
    "papermill": {
     "duration": 0.453729,
     "end_time": "2024-07-02T23:56:50.870985",
     "exception": false,
     "start_time": "2024-07-02T23:56:50.417256",
     "status": "completed"
    },
    "tags": []
   },
   "outputs": [
    {
     "data": {
      "image/png": "[encoded data removed]",
      "text/plain": [
       "<Figure size 500x500 with 1 Axes>"
      ]
     },
     "metadata": {},
     "output_type": "display_data"
    }
   ],
   "source": [
    "plot_lgm_importances(final_model, plot=True, num=10)"
   ]
  },
  {
   "cell_type": "code",
   "execution_count": null,
   "id": "94f5ba50",
   "metadata": {
    "papermill": {
     "duration": 0.033981,
     "end_time": "2024-07-02T23:56:50.939895",
     "exception": false,
     "start_time": "2024-07-02T23:56:50.905914",
     "status": "completed"
    },
    "tags": []
   },
   "outputs": [],
   "source": []
  }
 ],
 "metadata": {
  "kaggle": {
   "accelerator": "none",
   "dataSources": [
    {
     "databundleVersionId": 868225,
     "sourceId": 9999,
     "sourceType": "competition"
    }
   ],
   "dockerImageVersionId": 30732,
   "isGpuEnabled": false,
   "isInternetEnabled": true,
   "language": "python",
   "sourceType": "notebook"
  },
  "kernelspec": {
   "display_name": "Python 3",
   "language": "python",
   "name": "python3"
  },
  "language_info": {
   "codemirror_mode": {
    "name": "ipython",
    "version": 3
   },
   "file_extension": ".py",
   "mimetype": "text/x-python",
   "name": "python",
   "nbconvert_exporter": "python",
   "pygments_lexer": "ipython3",
   "version": "3.10.13"
  },
  "papermill": {
   "default_parameters": {},
   "duration": 1371.734601,
   "end_time": "2024-07-02T23:56:52.503918",
   "environment_variables": {},
   "exception": null,
   "input_path": "__notebook__.ipynb",
   "output_path": "__notebook__.ipynb",
   "parameters": {},
   "start_time": "2024-07-02T23:34:00.769317",
   "version": "2.5.0"
  }
 },
 "nbformat": 4,
 "nbformat_minor": 5
}
